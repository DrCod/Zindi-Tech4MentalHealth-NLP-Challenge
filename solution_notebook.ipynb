{
  "nbformat": 4,
  "nbformat_minor": 0,
  "metadata": {
    "colab": {
      "name": "Tech4MentalHealth_2nd_place_solution.ipynb",
      "provenance": [],
      "collapsed_sections": []
    },
    "kernelspec": {
      "display_name": "Python 3",
      "language": "python",
      "name": "python3"
    },
    "language_info": {
      "codemirror_mode": {
        "name": "ipython",
        "version": 3
      },
      "file_extension": ".py",
      "mimetype": "text/x-python",
      "name": "python",
      "nbconvert_exporter": "python",
      "pygments_lexer": "ipython3",
      "version": "3.7.3"
    },
    "accelerator": "GPU"
  },
  "cells": [
    {
      "cell_type": "code",
      "metadata": {
        "id": "J8w3jswjn04w",
        "colab_type": "code",
        "colab": {
          "base_uri": "https://localhost:8080/",
          "height": 340
        },
        "outputId": "25c742c0-d194-4070-b528-e58501f5463b"
      },
      "source": [
        "# Huggingface transformer library\n",
        "!pip install transformers"
      ],
      "execution_count": null,
      "outputs": [
        {
          "output_type": "stream",
          "text": [
            "Requirement already satisfied: transformers in /usr/local/lib/python3.6/dist-packages (3.0.2)\n",
            "Requirement already satisfied: sacremoses in /usr/local/lib/python3.6/dist-packages (from transformers) (0.0.43)\n",
            "Requirement already satisfied: tokenizers==0.8.1.rc1 in /usr/local/lib/python3.6/dist-packages (from transformers) (0.8.1rc1)\n",
            "Requirement already satisfied: regex!=2019.12.17 in /usr/local/lib/python3.6/dist-packages (from transformers) (2019.12.20)\n",
            "Requirement already satisfied: numpy in /usr/local/lib/python3.6/dist-packages (from transformers) (1.18.5)\n",
            "Requirement already satisfied: filelock in /usr/local/lib/python3.6/dist-packages (from transformers) (3.0.12)\n",
            "Requirement already satisfied: tqdm>=4.27 in /usr/local/lib/python3.6/dist-packages (from transformers) (4.41.1)\n",
            "Requirement already satisfied: sentencepiece!=0.1.92 in /usr/local/lib/python3.6/dist-packages (from transformers) (0.1.91)\n",
            "Requirement already satisfied: dataclasses; python_version < \"3.7\" in /usr/local/lib/python3.6/dist-packages (from transformers) (0.7)\n",
            "Requirement already satisfied: packaging in /usr/local/lib/python3.6/dist-packages (from transformers) (20.4)\n",
            "Requirement already satisfied: requests in /usr/local/lib/python3.6/dist-packages (from transformers) (2.23.0)\n",
            "Requirement already satisfied: joblib in /usr/local/lib/python3.6/dist-packages (from sacremoses->transformers) (0.15.1)\n",
            "Requirement already satisfied: six in /usr/local/lib/python3.6/dist-packages (from sacremoses->transformers) (1.12.0)\n",
            "Requirement already satisfied: click in /usr/local/lib/python3.6/dist-packages (from sacremoses->transformers) (7.1.2)\n",
            "Requirement already satisfied: pyparsing>=2.0.2 in /usr/local/lib/python3.6/dist-packages (from packaging->transformers) (2.4.7)\n",
            "Requirement already satisfied: idna<3,>=2.5 in /usr/local/lib/python3.6/dist-packages (from requests->transformers) (2.9)\n",
            "Requirement already satisfied: certifi>=2017.4.17 in /usr/local/lib/python3.6/dist-packages (from requests->transformers) (2020.6.20)\n",
            "Requirement already satisfied: chardet<4,>=3.0.2 in /usr/local/lib/python3.6/dist-packages (from requests->transformers) (3.0.4)\n",
            "Requirement already satisfied: urllib3!=1.25.0,!=1.25.1,<1.26,>=1.21.1 in /usr/local/lib/python3.6/dist-packages (from requests->transformers) (1.24.3)\n"
          ],
          "name": "stdout"
        }
      ]
    },
    {
      "cell_type": "code",
      "metadata": {
        "colab_type": "code",
        "id": "MJuJJ_XNi85r",
        "colab": {}
      },
      "source": [
        "#Import libraries\n",
        "import os\n",
        "import string\n",
        "import re\n",
        "import plotly.graph_objects as go\n",
        "import matplotlib.pyplot as plt\n",
        "from statistics import *\n",
        "import numpy as np\n",
        "import pandas as pd\n",
        "from transformers import *\n",
        "import random\n",
        "from sklearn.model_selection import StratifiedKFold\n",
        "from sklearn.preprocessing import StandardScaler\n",
        "import tensorflow as tf\n",
        "from tensorflow.keras.initializers import glorot_normal\n",
        "from tensorflow.keras.optimizers import Adam\n",
        "from tensorflow import int32\n",
        "from tensorflow.keras.models import *\n",
        "from tensorflow.keras.layers import *\n",
        "import torch\n",
        "from tensorflow.keras.callbacks import EarlyStopping,LearningRateScheduler,History\n",
        "\n",
        "\n",
        "\n",
        "def seed_all(seed_value):\n",
        "  '''\n",
        "  Input: an integer representing the seed\n",
        "  Output: sets all seedables with the input seed\n",
        "  '''\n",
        "  random.seed(seed_value) # Python\n",
        "  np.random.seed(seed_value) # cpu vars\n",
        "  torch.manual_seed(seed_value) # cpu  vars\n",
        "  tf.random.set_seed(seed_value)\n",
        "\n",
        "  if torch.cuda.is_available():\n",
        "      \n",
        "      torch.cuda.manual_seed(seed_value)\n",
        "      torch.cuda.manual_seed_all(seed_value) # gpu vars\n",
        "      torch.backends.cudnn.deterministic = True  #needed\n",
        "      torch.backends.cudnn.benchmark = False\n",
        "\n",
        "seed_all(1)"
      ],
      "execution_count": null,
      "outputs": []
    },
    {
      "cell_type": "code",
      "metadata": {
        "colab_type": "code",
        "id": "cVyB7mWuTrBz",
        "colab": {}
      },
      "source": [
        "# Read train and test corpus -- pd.read_csv()\n",
        "# Cast the text corpus to python string format ---astype(str)\n",
        "# Replace NaN values with an empty string --- fillna(\"\")\n",
        "train = pd.read_csv(\"./Train.csv\").astype(str).fillna(\"\")\n",
        "test = pd.read_csv(\"./Test.csv\").astype(str).fillna(\"\")"
      ],
      "execution_count": null,
      "outputs": []
    },
    {
      "cell_type": "code",
      "metadata": {
        "colab_type": "code",
        "id": "oWvktpMMdxCb",
        "colab": {}
      },
      "source": [
        "def to_class(text):\n",
        "  '''\n",
        "  Input : a string that corresponds to the dataframe label\n",
        "  Output: a numpy array representing the one-hot vector representation of the label string\n",
        "  '''\n",
        "  if text == 'Drugs': return np.array([0, 0, 0, 1])\n",
        "  if text == 'Suicide': return np.array([0, 0, 1, 0])\n",
        "  if text == 'Alcohol': return np.array([0, 1, 0, 0])\n",
        "  if text == 'Depression': return np.array([1, 0, 0, 0])"
      ],
      "execution_count": null,
      "outputs": []
    },
    {
      "cell_type": "code",
      "metadata": {
        "id": "BuyrxVVg4lYQ",
        "colab_type": "code",
        "colab": {}
      },
      "source": [
        "def transform(array):\n",
        "  '''\n",
        "  Input: a numpy array  of labels from the dataframe\n",
        "  Output: a numpy array correspondng to the one-hot-vectors for all the labels\n",
        "  '''\n",
        "  Ynew = np.zeros((array.shape[0],4))\n",
        "  for idx in range(array.shape[0]):\n",
        "    Ynew[idx] = to_class(array[idx])\n",
        "  return Ynew"
      ],
      "execution_count": null,
      "outputs": []
    },
    {
      "cell_type": "code",
      "metadata": {
        "id": "NpRGX9U-6Td5",
        "colab_type": "code",
        "colab": {}
      },
      "source": [
        "def add_features(df):\n",
        "  '''\n",
        "  This function is implemented to extract statistical features from the data. \n",
        "  The statistical features of interest in our experiments included two ratios,\n",
        "  thus the total capital letters vrs total length of each text in the dataframe,\n",
        "  then the total number of unique words vrs the total word counts in each text \n",
        "  in the corpus.\n",
        "\n",
        "  Input: a dataframe\n",
        "  Output: a daframe with added feature columns\n",
        "  '''\n",
        "  df['text'] = df['text'].apply(lambda x:str(x)) # Cast every text of the df to a string\n",
        "  df['total_length'] = df['text'].apply(len) # Find the length of the string in df\n",
        "  df['capitals'] = df['text'].apply(lambda text: sum(1 for t in text if t.isupper())) # Find the total number of capital letters per text in df\n",
        "  df['caps_vs_length'] = df.apply(lambda row: float(row['capitals'])/float(row['total_length']),\n",
        "                              axis=1) # Find the ratio of number of capital letters to total length of each string in df\n",
        "  df['num_words'] = df.text.str.count('\\S+') # Count the total number of words in each row of df\n",
        "  df['num_unique_words'] = df['text'].apply(lambda text: len(set(t for t in text.split()))) # Find the total number of unique words in each string in df\n",
        "  df['words_vs_unique'] = df['num_unique_words'] / df['num_words'] # Find the ratio of total number of unique words to total number of words \n",
        "  return df\n",
        " \n",
        "train_text = add_features(train) # Transform the train dataframe adding two new features\n",
        " \n",
        "test = add_features(test) # Transform the test dataframe adding two new features"
      ],
      "execution_count": null,
      "outputs": []
    },
    {
      "cell_type": "code",
      "metadata": {
        "id": "8PGeMHJHxLvs",
        "colab_type": "code",
        "colab": {}
      },
      "source": [
        "trainfeatures = train_text[['caps_vs_length', 'words_vs_unique']].fillna(0) # Extract dataframe from the transformed train corpus with two new features \n",
        " \n",
        "test_features = test[['caps_vs_length', 'words_vs_unique']].fillna(0)  # Extract dataframe from the transformed test corpus with two new features \n",
        " \n",
        "\n",
        "ss = StandardScaler() #Instantiate a standard scaler to scale the features\n",
        "ss.fit(np.vstack((trainfeatures, test_features))) #Fit the standard scaler to both train and test features\n",
        "trainfeatures = ss.transform(trainfeatures) #Transform the fitted train features\n",
        "\n",
        "\n",
        "test_features = ss.transform(test_features) # Transform the fitted test features\n"
      ],
      "execution_count": null,
      "outputs": []
    },
    {
      "cell_type": "code",
      "metadata": {
        "id": "pcsAEkzxYB-J",
        "colab_type": "code",
        "colab": {
          "base_uri": "https://localhost:8080/",
          "height": 266
        },
        "outputId": "982ac9db-37ed-40cf-f5d0-c3553e49f7f0"
      },
      "source": [
        "train.sample(7)"
      ],
      "execution_count": null,
      "outputs": [
        {
          "output_type": "execute_result",
          "data": {
            "text/html": [
              "<div>\n",
              "<style scoped>\n",
              "    .dataframe tbody tr th:only-of-type {\n",
              "        vertical-align: middle;\n",
              "    }\n",
              "\n",
              "    .dataframe tbody tr th {\n",
              "        vertical-align: top;\n",
              "    }\n",
              "\n",
              "    .dataframe thead th {\n",
              "        text-align: right;\n",
              "    }\n",
              "</style>\n",
              "<table border=\"1\" class=\"dataframe\">\n",
              "  <thead>\n",
              "    <tr style=\"text-align: right;\">\n",
              "      <th></th>\n",
              "      <th>ID</th>\n",
              "      <th>text</th>\n",
              "      <th>label</th>\n",
              "      <th>total_length</th>\n",
              "      <th>capitals</th>\n",
              "      <th>caps_vs_length</th>\n",
              "      <th>num_words</th>\n",
              "      <th>num_unique_words</th>\n",
              "      <th>words_vs_unique</th>\n",
              "    </tr>\n",
              "  </thead>\n",
              "  <tbody>\n",
              "    <tr>\n",
              "      <th>464</th>\n",
              "      <td>3PJWHC2U</td>\n",
              "      <td>I feel like my life was being wasted</td>\n",
              "      <td>Depression</td>\n",
              "      <td>36</td>\n",
              "      <td>1</td>\n",
              "      <td>0.027778</td>\n",
              "      <td>8</td>\n",
              "      <td>8</td>\n",
              "      <td>1.000000</td>\n",
              "    </tr>\n",
              "    <tr>\n",
              "      <th>481</th>\n",
              "      <td>SEBOGNIF</td>\n",
              "      <td>Ways of distracting myself</td>\n",
              "      <td>Suicide</td>\n",
              "      <td>26</td>\n",
              "      <td>1</td>\n",
              "      <td>0.038462</td>\n",
              "      <td>4</td>\n",
              "      <td>4</td>\n",
              "      <td>1.000000</td>\n",
              "    </tr>\n",
              "    <tr>\n",
              "      <th>13</th>\n",
              "      <td>03TVUJ9J</td>\n",
              "      <td>I feel empty,absent minded</td>\n",
              "      <td>Depression</td>\n",
              "      <td>26</td>\n",
              "      <td>1</td>\n",
              "      <td>0.038462</td>\n",
              "      <td>4</td>\n",
              "      <td>4</td>\n",
              "      <td>1.000000</td>\n",
              "    </tr>\n",
              "    <tr>\n",
              "      <th>286</th>\n",
              "      <td>V8L9C5XG</td>\n",
              "      <td>I am overwhelmed on how to deal with the issue...</td>\n",
              "      <td>Depression</td>\n",
              "      <td>66</td>\n",
              "      <td>2</td>\n",
              "      <td>0.030303</td>\n",
              "      <td>15</td>\n",
              "      <td>13</td>\n",
              "      <td>0.866667</td>\n",
              "    </tr>\n",
              "    <tr>\n",
              "      <th>250</th>\n",
              "      <td>WBGFUUCK</td>\n",
              "      <td>how can I be helped to come out of depression?</td>\n",
              "      <td>Depression</td>\n",
              "      <td>46</td>\n",
              "      <td>1</td>\n",
              "      <td>0.021739</td>\n",
              "      <td>10</td>\n",
              "      <td>10</td>\n",
              "      <td>1.000000</td>\n",
              "    </tr>\n",
              "    <tr>\n",
              "      <th>419</th>\n",
              "      <td>SJ7CFS9T</td>\n",
              "      <td>What to do in order to heal</td>\n",
              "      <td>Suicide</td>\n",
              "      <td>27</td>\n",
              "      <td>1</td>\n",
              "      <td>0.037037</td>\n",
              "      <td>7</td>\n",
              "      <td>6</td>\n",
              "      <td>0.857143</td>\n",
              "    </tr>\n",
              "    <tr>\n",
              "      <th>261</th>\n",
              "      <td>LGBXU9PN</td>\n",
              "      <td>Is alccohol the only form of entertainment for...</td>\n",
              "      <td>Alcohol</td>\n",
              "      <td>64</td>\n",
              "      <td>1</td>\n",
              "      <td>0.015625</td>\n",
              "      <td>11</td>\n",
              "      <td>10</td>\n",
              "      <td>0.909091</td>\n",
              "    </tr>\n",
              "  </tbody>\n",
              "</table>\n",
              "</div>"
            ],
            "text/plain": [
              "           ID  ... words_vs_unique\n",
              "464  3PJWHC2U  ...        1.000000\n",
              "481  SEBOGNIF  ...        1.000000\n",
              "13   03TVUJ9J  ...        1.000000\n",
              "286  V8L9C5XG  ...        0.866667\n",
              "250  WBGFUUCK  ...        1.000000\n",
              "419  SJ7CFS9T  ...        0.857143\n",
              "261  LGBXU9PN  ...        0.909091\n",
              "\n",
              "[7 rows x 9 columns]"
            ]
          },
          "metadata": {
            "tags": []
          },
          "execution_count": 11
        }
      ]
    },
    {
      "cell_type": "code",
      "metadata": {
        "id": "8TBFkpMav1rP",
        "colab_type": "code",
        "colab": {
          "base_uri": "https://localhost:8080/",
          "height": 54
        },
        "outputId": "8123ac43-f3db-4078-a5f1-346835d0fb1e"
      },
      "source": [
        "maxlen = 128 # sequence maximum length\n",
        " \n",
        "# Roberta Tokenizer object\n",
        "tokenizer = RobertaTokenizer.from_pretrained('roberta-base')\n",
        " \n",
        "# Tokenize all the train text corpus with the roberta tokenizer \n",
        "# Returns a numpy array of input ids for the tokenized train text corpus\n",
        "xtrain_ids = np.array(tokenizer.batch_encode_plus(train.text.values,\n",
        "                       add_special_tokens =True,\n",
        "                       return_attention_mask =False,\n",
        "                        return_token_type_ids = False,\n",
        "                        max_length= maxlen, \n",
        "                        pad_to_max_length=True)['input_ids'])"
      ],
      "execution_count": null,
      "outputs": [
        {
          "output_type": "stream",
          "text": [
            "Truncation was not explicitely activated but `max_length` is provided a specific value, please use `truncation=True` to explicitely truncate examples to max length. Defaulting to 'longest_first' truncation strategy. If you encode pairs of sequences (GLUE-style) with the tokenizer you can select this strategy more precisely by providing a specific strategy to `truncation`.\n"
          ],
          "name": "stderr"
        }
      ]
    },
    {
      "cell_type": "code",
      "metadata": {
        "id": "HqoCWaVJpXZi",
        "colab_type": "code",
        "colab": {
          "base_uri": "https://localhost:8080/",
          "height": 54
        },
        "outputId": "1e92e574-308b-4a00-948c-d4afdd231404"
      },
      "source": [
        "# Returns a numpy array of attention masks for the tokenized train text corpus\n",
        "xtrain_masks = np.array(tokenizer.batch_encode_plus(train.text.values,\n",
        "                  add_special_tokens =True,\n",
        "                  return_attention_mask =True,\n",
        "                  return_token_type_ids = False,\n",
        "                  max_length= maxlen, \n",
        "                  pad_to_max_length=True)['attention_mask']\n",
        ")"
      ],
      "execution_count": null,
      "outputs": [
        {
          "output_type": "stream",
          "text": [
            "Truncation was not explicitely activated but `max_length` is provided a specific value, please use `truncation=True` to explicitely truncate examples to max length. Defaulting to 'longest_first' truncation strategy. If you encode pairs of sequences (GLUE-style) with the tokenizer you can select this strategy more precisely by providing a specific strategy to `truncation`.\n"
          ],
          "name": "stderr"
        }
      ]
    },
    {
      "cell_type": "code",
      "metadata": {
        "id": "2Uz-56nyqYeV",
        "colab_type": "code",
        "colab": {
          "base_uri": "https://localhost:8080/",
          "height": 34
        },
        "outputId": "f0bfcb01-debe-4e86-b95f-630d4ebb4ca8"
      },
      "source": [
        "xtrain_ids.shape, xtrain_masks.shape"
      ],
      "execution_count": null,
      "outputs": [
        {
          "output_type": "execute_result",
          "data": {
            "text/plain": [
              "((616, 128), (616, 128))"
            ]
          },
          "metadata": {
            "tags": []
          },
          "execution_count": 14
        }
      ]
    },
    {
      "cell_type": "code",
      "metadata": {
        "colab_type": "code",
        "id": "LpoYJWZsUshi",
        "colab": {
          "base_uri": "https://localhost:8080/",
          "height": 71
        },
        "outputId": "e9c305b5-602c-458d-8c1c-26efbfd5d711"
      },
      "source": [
        "# Returns a numpy array of input ids for the tokenized test text corpus\n",
        "\n",
        "xtest_ids = np.array(tokenizer.batch_encode_plus( test.text.values, \n",
        "                                                  add_special_tokens =True,\n",
        "                                                  return_attention_mask =False,\n",
        "                                                  return_token_type_ids = False,\n",
        "                                                  max_length= maxlen, \n",
        "                                                  pad_to_max_length=True)['input_ids'])\n",
        "\n",
        "# Returns a numpy array of attention masks for the tokenized test text corpus\n",
        "\n",
        "xtest_masks =np.array(tokenizer.batch_encode_plus(test.text.values, \n",
        "                                                  add_special_tokens =True,\n",
        "                                                  return_attention_mask =True,\n",
        "                                                  return_token_type_ids = False,\n",
        "                                                  max_length= maxlen, \n",
        "                                                  pad_to_max_length=True)['attention_mask'])\n"
      ],
      "execution_count": null,
      "outputs": [
        {
          "output_type": "stream",
          "text": [
            "Truncation was not explicitely activated but `max_length` is provided a specific value, please use `truncation=True` to explicitely truncate examples to max length. Defaulting to 'longest_first' truncation strategy. If you encode pairs of sequences (GLUE-style) with the tokenizer you can select this strategy more precisely by providing a specific strategy to `truncation`.\n",
            "Truncation was not explicitely activated but `max_length` is provided a specific value, please use `truncation=True` to explicitely truncate examples to max length. Defaulting to 'longest_first' truncation strategy. If you encode pairs of sequences (GLUE-style) with the tokenizer you can select this strategy more precisely by providing a specific strategy to `truncation`.\n"
          ],
          "name": "stderr"
        }
      ]
    },
    {
      "cell_type": "code",
      "metadata": {
        "colab_type": "code",
        "id": "-vCGbd_l8pHo",
        "colab": {}
      },
      "source": [
        "# Stores array of train labels\n",
        "Y = train.label.values"
      ],
      "execution_count": null,
      "outputs": []
    },
    {
      "cell_type": "code",
      "metadata": {
        "id": "xdoUW0xPSAuH",
        "colab_type": "code",
        "colab": {
          "base_uri": "https://localhost:8080/",
          "height": 34
        },
        "outputId": "89c20e13-63cc-43cc-bb78-02fceab99d9d"
      },
      "source": [
        "Y.shape"
      ],
      "execution_count": null,
      "outputs": [
        {
          "output_type": "execute_result",
          "data": {
            "text/plain": [
              "(616,)"
            ]
          },
          "metadata": {
            "tags": []
          },
          "execution_count": 18
        }
      ]
    },
    {
      "cell_type": "code",
      "metadata": {
        "colab_type": "code",
        "id": "6wqoFUj_U-O6",
        "colab": {}
      },
      "source": [
        "def get_model(): \n",
        "  '''\n",
        "  Input: None\n",
        "  Output: a tensorflow roberta model\n",
        "\n",
        "  '''\n",
        "  input_ids = Input((maxlen,), dtype=int32) # Input ids variable\n",
        "  input_masks = Input((maxlen,),dtype=int32) # Attention masks variable\n",
        "  input_stats = Input((2,), dtype=int32) # Statistical features variable\n",
        "\n",
        "\n",
        "  roberta = TFRobertaModel.from_pretrained(\"roberta-base\") # Load pretrained roberta base model\n",
        "  x,_   = roberta([input_ids, input_masks])\n",
        "  drop1 = Dropout(0.15, name=\"dropout1\")(x)\n",
        "\n",
        "  conv = Conv1D(768, 7, strides= 3, padding=\"same\")(drop1)\n",
        "\n",
        "  x = GlobalMaxPooling1D()(conv)\n",
        "\n",
        "  concat = Concatenate()([x, Dense(64, activation=\"relu\")(input_stats)])\n",
        "  \n",
        "  x = add([concat, Dense(832, activation= \"relu\")(concat)])\n",
        "  x = add([x, Dense(832, activation= \"relu\")(x)])\n",
        "\n",
        "  hidden = Dropout(0.15, name=\"dropout2\")(x)\n",
        "  \n",
        "  flat = Flatten()(hidden)\n",
        "\n",
        "  classification = Dense(4, activation=\"softmax\",\n",
        "                          kernel_initializer=glorot_normal(seed = 1),\n",
        "                          bias_initializer=glorot_normal(seed= 1),\n",
        "                          name=\"classification\")(flat)\n",
        "                          \n",
        "  model = Model(inputs = [[input_ids,input_masks],input_stats], outputs=classification)\n",
        "  \n",
        "  optim =Adam(learning_rate=1e-5)\n",
        "  model.compile(loss= \"categorical_crossentropy\", optimizer=optim, metrics=['accuracy',tf.keras.metrics.Recall(), tf.keras.metrics.Precision()])\n",
        "  \n",
        "  return model"
      ],
      "execution_count": null,
      "outputs": []
    },
    {
      "cell_type": "code",
      "metadata": {
        "id": "DbbgAFWwELSi",
        "colab_type": "code",
        "colab": {}
      },
      "source": [
        "colors = plt.rcParams['axes.prop_cycle'].by_key()['color']\n",
        "\n",
        "def plot_loss(history, label, n):\n",
        "  # Use a log scale to show the wide range of values.\n",
        "  plt.semilogy(history.epoch,  history.history['loss'],\n",
        "               color=colors[n], label='Train '+label)\n",
        "  plt.semilogy(history.epoch,  history.history['val_loss'],\n",
        "          color=colors[n], label='Val '+label,\n",
        "          linestyle=\"--\")\n",
        "  plt.xlabel('Epoch')\n",
        "  plt.ylabel('Loss')\n",
        "  \n",
        "  plt.legend()\n",
        "  plt.show()"
      ],
      "execution_count": null,
      "outputs": []
    },
    {
      "cell_type": "code",
      "metadata": {
        "colab_type": "code",
        "id": "yYW-13Y0oHhW",
        "cellView": "code",
        "colab": {
          "base_uri": "https://localhost:8080/",
          "height": 1000
        },
        "outputId": "09419437-fdc9-477b-80ee-ba3ad7ec049d"
      },
      "source": [
        "history = History() \n",
        "es = EarlyStopping(monitor =\"val_loss\", mode=\"min\", verbose= 1, patience = 3)\n",
        " \n",
        "def scheduler(epoch):\n",
        "  '''\n",
        "  This function schedules the learning rate by decaying it by a factor of (epoch + 1)^ -1\n",
        "  Input: an integer representing the epoch\n",
        "  Output: a decimal representing the decayed learning rate\n",
        "  '''\n",
        "  return 1e-5/(epoch + 1)\n",
        "  \n",
        "rate = LearningRateScheduler(scheduler) # Schedules the learning rate\n",
        "\n",
        "# Splits the input features [input ids, attention masks,statistical features, targets] into 8 folds\n",
        "kfold = StratifiedKFold(n_splits= 8, shuffle=True, random_state = 1).split(xtrain_ids,Y) \n",
        "predictions = list() # per fold predictions variable\n",
        " \n",
        "n = 0\n",
        "for i, (train_idx, test_idx) in enumerate(kfold):\n",
        " \n",
        "    ytrain_fold = transform(Y[train_idx]) \n",
        "    yvalid_fold = transform(Y[test_idx])  \n",
        " \n",
        "    model = get_model()\n",
        "    model.summary()\n",
        "    \n",
        "    h = model.fit([[xtrain_ids[train_idx],xtrain_masks[train_idx]], trainfeatures[train_idx]], \n",
        "            ytrain_fold, \n",
        "            batch_size= 24, \n",
        "            epochs=100, \n",
        "            callbacks =[es,rate],\n",
        "            validation_data=([[xtrain_ids[test_idx],xtrain_masks[test_idx]],trainfeatures[test_idx]],yvalid_fold)\n",
        "            )\n",
        "    #print('Loss plot')\n",
        "    n += 1\n",
        "    plot_loss(h, \"Fold\"+str(n), n)\n",
        " \n",
        "    preds = model.predict([[xtest_ids,xtest_masks],test_features], batch_size=24, verbose=1)\n",
        " \n",
        "    predictions.append(preds)"
      ],
      "execution_count": null,
      "outputs": [
        {
          "output_type": "stream",
          "text": [
            "Some weights of the model checkpoint at roberta-base were not used when initializing TFRobertaModel: ['lm_head']\n",
            "- This IS expected if you are initializing TFRobertaModel from the checkpoint of a model trained on another task or with another architecture (e.g. initializing a BertForSequenceClassification model from a BertForPretraining model).\n",
            "- This IS NOT expected if you are initializing TFRobertaModel from the checkpoint of a model that you expect to be exactly identical (initializing a BertForSequenceClassification model from a BertForSequenceClassification model).\n",
            "All the weights of TFRobertaModel were initialized from the model checkpoint at roberta-base.\n",
            "If your task is similar to the task the model of the ckeckpoint was trained on, you can already use TFRobertaModel for predictions without further training.\n"
          ],
          "name": "stderr"
        },
        {
          "output_type": "stream",
          "text": [
            "Model: \"model\"\n",
            "__________________________________________________________________________________________________\n",
            "Layer (type)                    Output Shape         Param #     Connected to                     \n",
            "==================================================================================================\n",
            "input_1 (InputLayer)            [(None, 128)]        0                                            \n",
            "__________________________________________________________________________________________________\n",
            "input_2 (InputLayer)            [(None, 128)]        0                                            \n",
            "__________________________________________________________________________________________________\n",
            "tf_roberta_model (TFRobertaMode ((None, 128, 768), ( 124645632   input_1[0][0]                    \n",
            "                                                                 input_2[0][0]                    \n",
            "__________________________________________________________________________________________________\n",
            "dropout1 (Dropout)              (None, 128, 768)     0           tf_roberta_model[0][0]           \n",
            "__________________________________________________________________________________________________\n",
            "conv1d (Conv1D)                 (None, 43, 768)      4129536     dropout1[0][0]                   \n",
            "__________________________________________________________________________________________________\n",
            "input_3 (InputLayer)            [(None, 2)]          0                                            \n",
            "__________________________________________________________________________________________________\n",
            "global_max_pooling1d (GlobalMax (None, 768)          0           conv1d[0][0]                     \n",
            "__________________________________________________________________________________________________\n",
            "dense (Dense)                   (None, 64)           192         input_3[0][0]                    \n",
            "__________________________________________________________________________________________________\n",
            "concatenate (Concatenate)       (None, 832)          0           global_max_pooling1d[0][0]       \n",
            "                                                                 dense[0][0]                      \n",
            "__________________________________________________________________________________________________\n",
            "dense_1 (Dense)                 (None, 832)          693056      concatenate[0][0]                \n",
            "__________________________________________________________________________________________________\n",
            "add (Add)                       (None, 832)          0           concatenate[0][0]                \n",
            "                                                                 dense_1[0][0]                    \n",
            "__________________________________________________________________________________________________\n",
            "dense_2 (Dense)                 (None, 832)          693056      add[0][0]                        \n",
            "__________________________________________________________________________________________________\n",
            "add_1 (Add)                     (None, 832)          0           add[0][0]                        \n",
            "                                                                 dense_2[0][0]                    \n",
            "__________________________________________________________________________________________________\n",
            "dropout2 (Dropout)              (None, 832)          0           add_1[0][0]                      \n",
            "__________________________________________________________________________________________________\n",
            "flatten (Flatten)               (None, 832)          0           dropout2[0][0]                   \n",
            "__________________________________________________________________________________________________\n",
            "classification (Dense)          (None, 4)            3332        flatten[0][0]                    \n",
            "==================================================================================================\n",
            "Total params: 130,164,804\n",
            "Trainable params: 130,164,804\n",
            "Non-trainable params: 0\n",
            "__________________________________________________________________________________________________\n",
            "Epoch 1/100\n",
            "WARNING:tensorflow:Gradients do not exist for variables ['tf_roberta_model/roberta/pooler/dense/kernel:0', 'tf_roberta_model/roberta/pooler/dense/bias:0'] when minimizing the loss.\n",
            "WARNING:tensorflow:Gradients do not exist for variables ['tf_roberta_model/roberta/pooler/dense/kernel:0', 'tf_roberta_model/roberta/pooler/dense/bias:0'] when minimizing the loss.\n",
            "WARNING:tensorflow:Gradients do not exist for variables ['tf_roberta_model/roberta/pooler/dense/kernel:0', 'tf_roberta_model/roberta/pooler/dense/bias:0'] when minimizing the loss.\n",
            "WARNING:tensorflow:Gradients do not exist for variables ['tf_roberta_model/roberta/pooler/dense/kernel:0', 'tf_roberta_model/roberta/pooler/dense/bias:0'] when minimizing the loss.\n",
            "23/23 [==============================] - 11s 495ms/step - loss: 1.6568 - accuracy: 0.4230 - recall: 0.3766 - precision: 0.4688 - val_loss: 0.9565 - val_accuracy: 0.5844 - val_recall: 0.5584 - val_precision: 0.6825 - lr: 1.0000e-05\n",
            "Epoch 2/100\n",
            "23/23 [==============================] - 9s 382ms/step - loss: 1.0647 - accuracy: 0.6364 - recall: 0.5659 - precision: 0.6885 - val_loss: 0.7259 - val_accuracy: 0.7792 - val_recall: 0.7013 - val_precision: 0.8571 - lr: 5.0000e-06\n",
            "Epoch 3/100\n",
            "23/23 [==============================] - 9s 382ms/step - loss: 0.7494 - accuracy: 0.7495 - recall: 0.6809 - precision: 0.8174 - val_loss: 0.5339 - val_accuracy: 0.8052 - val_recall: 0.7922 - val_precision: 0.8356 - lr: 3.3333e-06\n",
            "Epoch 4/100\n",
            "23/23 [==============================] - 9s 382ms/step - loss: 0.6465 - accuracy: 0.7718 - recall: 0.7161 - precision: 0.8109 - val_loss: 0.4249 - val_accuracy: 0.8312 - val_recall: 0.8182 - val_precision: 0.9000 - lr: 2.5000e-06\n",
            "Epoch 5/100\n",
            "23/23 [==============================] - 9s 383ms/step - loss: 0.4641 - accuracy: 0.8349 - recall: 0.7904 - precision: 0.8694 - val_loss: 0.3768 - val_accuracy: 0.8442 - val_recall: 0.8182 - val_precision: 0.9000 - lr: 2.0000e-06\n",
            "Epoch 6/100\n",
            "23/23 [==============================] - 9s 381ms/step - loss: 0.4582 - accuracy: 0.8349 - recall: 0.8033 - precision: 0.8557 - val_loss: 0.3336 - val_accuracy: 0.8961 - val_recall: 0.8312 - val_precision: 0.9143 - lr: 1.6667e-06\n",
            "Epoch 7/100\n",
            "23/23 [==============================] - 9s 382ms/step - loss: 0.4604 - accuracy: 0.8442 - recall: 0.8237 - precision: 0.8655 - val_loss: 0.3096 - val_accuracy: 0.9091 - val_recall: 0.8571 - val_precision: 0.9167 - lr: 1.4286e-06\n",
            "Epoch 8/100\n",
            "23/23 [==============================] - 9s 380ms/step - loss: 0.3942 - accuracy: 0.8516 - recall: 0.8367 - precision: 0.8740 - val_loss: 0.2910 - val_accuracy: 0.8961 - val_recall: 0.8571 - val_precision: 0.9296 - lr: 1.2500e-06\n",
            "Epoch 9/100\n",
            "23/23 [==============================] - 9s 382ms/step - loss: 0.3771 - accuracy: 0.8534 - recall: 0.8312 - precision: 0.8802 - val_loss: 0.2793 - val_accuracy: 0.9091 - val_recall: 0.8701 - val_precision: 0.9306 - lr: 1.1111e-06\n",
            "Epoch 10/100\n",
            "23/23 [==============================] - 9s 381ms/step - loss: 0.3341 - accuracy: 0.8646 - recall: 0.8423 - precision: 0.8902 - val_loss: 0.2690 - val_accuracy: 0.9091 - val_recall: 0.8831 - val_precision: 0.9315 - lr: 1.0000e-06\n",
            "Epoch 11/100\n",
            "23/23 [==============================] - 9s 380ms/step - loss: 0.3142 - accuracy: 0.8794 - recall: 0.8701 - precision: 0.9054 - val_loss: 0.2624 - val_accuracy: 0.9091 - val_recall: 0.8831 - val_precision: 0.9189 - lr: 9.0909e-07\n",
            "Epoch 12/100\n",
            "23/23 [==============================] - 9s 380ms/step - loss: 0.3089 - accuracy: 0.8924 - recall: 0.8738 - precision: 0.9006 - val_loss: 0.2595 - val_accuracy: 0.9091 - val_recall: 0.8701 - val_precision: 0.9178 - lr: 8.3333e-07\n",
            "Epoch 13/100\n",
            "23/23 [==============================] - 9s 381ms/step - loss: 0.2836 - accuracy: 0.9017 - recall: 0.8720 - precision: 0.9234 - val_loss: 0.2571 - val_accuracy: 0.9091 - val_recall: 0.8571 - val_precision: 0.9167 - lr: 7.6923e-07\n",
            "Epoch 14/100\n",
            "23/23 [==============================] - 9s 381ms/step - loss: 0.2902 - accuracy: 0.8868 - recall: 0.8701 - precision: 0.9054 - val_loss: 0.2517 - val_accuracy: 0.8831 - val_recall: 0.8701 - val_precision: 0.9178 - lr: 7.1429e-07\n",
            "Epoch 15/100\n",
            "23/23 [==============================] - 9s 381ms/step - loss: 0.2599 - accuracy: 0.9091 - recall: 0.8905 - precision: 0.9320 - val_loss: 0.2485 - val_accuracy: 0.9091 - val_recall: 0.8701 - val_precision: 0.9178 - lr: 6.6667e-07\n",
            "Epoch 16/100\n",
            "23/23 [==============================] - 9s 380ms/step - loss: 0.2698 - accuracy: 0.9054 - recall: 0.8905 - precision: 0.9231 - val_loss: 0.2478 - val_accuracy: 0.9091 - val_recall: 0.8571 - val_precision: 0.9167 - lr: 6.2500e-07\n",
            "Epoch 17/100\n",
            "23/23 [==============================] - 9s 380ms/step - loss: 0.2767 - accuracy: 0.8961 - recall: 0.8776 - precision: 0.9131 - val_loss: 0.2500 - val_accuracy: 0.8961 - val_recall: 0.8571 - val_precision: 0.9167 - lr: 5.8824e-07\n",
            "Epoch 18/100\n",
            "23/23 [==============================] - 9s 381ms/step - loss: 0.2337 - accuracy: 0.9109 - recall: 0.8942 - precision: 0.9251 - val_loss: 0.2457 - val_accuracy: 0.8961 - val_recall: 0.8831 - val_precision: 0.9189 - lr: 5.5556e-07\n",
            "Epoch 19/100\n",
            "23/23 [==============================] - 9s 381ms/step - loss: 0.2503 - accuracy: 0.9109 - recall: 0.9035 - precision: 0.9294 - val_loss: 0.2479 - val_accuracy: 0.8961 - val_recall: 0.8831 - val_precision: 0.9189 - lr: 5.2632e-07\n",
            "Epoch 20/100\n",
            "23/23 [==============================] - 9s 381ms/step - loss: 0.2515 - accuracy: 0.9109 - recall: 0.8942 - precision: 0.9198 - val_loss: 0.2441 - val_accuracy: 0.8961 - val_recall: 0.8571 - val_precision: 0.9167 - lr: 5.0000e-07\n",
            "Epoch 21/100\n",
            "23/23 [==============================] - 9s 379ms/step - loss: 0.2313 - accuracy: 0.9184 - recall: 0.9035 - precision: 0.9276 - val_loss: 0.2468 - val_accuracy: 0.8961 - val_recall: 0.8701 - val_precision: 0.9178 - lr: 4.7619e-07\n",
            "Epoch 22/100\n",
            "23/23 [==============================] - 9s 381ms/step - loss: 0.2282 - accuracy: 0.9072 - recall: 0.8942 - precision: 0.9323 - val_loss: 0.2465 - val_accuracy: 0.8961 - val_recall: 0.8701 - val_precision: 0.9178 - lr: 4.5455e-07\n",
            "Epoch 23/100\n",
            "23/23 [==============================] - 9s 381ms/step - loss: 0.2137 - accuracy: 0.9239 - recall: 0.9109 - precision: 0.9352 - val_loss: 0.2452 - val_accuracy: 0.8961 - val_recall: 0.8571 - val_precision: 0.9167 - lr: 4.3478e-07\n",
            "Epoch 00023: early stopping\n"
          ],
          "name": "stdout"
        },
        {
          "output_type": "display_data",
          "data": {
            "image/png": "[encoded data removed]",
            "text/plain": [
              "<Figure size 432x288 with 1 Axes>"
            ]
          },
          "metadata": {
            "tags": [],
            "needs_background": "light"
          }
        },
        {
          "output_type": "stream",
          "text": [
            "13/13 [==============================] - 2s 127ms/step\n"
          ],
          "name": "stdout"
        },
        {
          "output_type": "stream",
          "text": [
            "Some weights of the model checkpoint at roberta-base were not used when initializing TFRobertaModel: ['lm_head']\n",
            "- This IS expected if you are initializing TFRobertaModel from the checkpoint of a model trained on another task or with another architecture (e.g. initializing a BertForSequenceClassification model from a BertForPretraining model).\n",
            "- This IS NOT expected if you are initializing TFRobertaModel from the checkpoint of a model that you expect to be exactly identical (initializing a BertForSequenceClassification model from a BertForSequenceClassification model).\n",
            "All the weights of TFRobertaModel were initialized from the model checkpoint at roberta-base.\n",
            "If your task is similar to the task the model of the ckeckpoint was trained on, you can already use TFRobertaModel for predictions without further training.\n"
          ],
          "name": "stderr"
        },
        {
          "output_type": "stream",
          "text": [
            "Model: \"model_1\"\n",
            "__________________________________________________________________________________________________\n",
            "Layer (type)                    Output Shape         Param #     Connected to                     \n",
            "==================================================================================================\n",
            "input_4 (InputLayer)            [(None, 128)]        0                                            \n",
            "__________________________________________________________________________________________________\n",
            "input_5 (InputLayer)            [(None, 128)]        0                                            \n",
            "__________________________________________________________________________________________________\n",
            "tf_roberta_model_1 (TFRobertaMo ((None, 128, 768), ( 124645632   input_4[0][0]                    \n",
            "                                                                 input_5[0][0]                    \n",
            "__________________________________________________________________________________________________\n",
            "dropout1 (Dropout)              (None, 128, 768)     0           tf_roberta_model_1[0][0]         \n",
            "__________________________________________________________________________________________________\n",
            "conv1d_1 (Conv1D)               (None, 43, 768)      4129536     dropout1[0][0]                   \n",
            "__________________________________________________________________________________________________\n",
            "input_6 (InputLayer)            [(None, 2)]          0                                            \n",
            "__________________________________________________________________________________________________\n",
            "global_max_pooling1d_1 (GlobalM (None, 768)          0           conv1d_1[0][0]                   \n",
            "__________________________________________________________________________________________________\n",
            "dense_3 (Dense)                 (None, 64)           192         input_6[0][0]                    \n",
            "__________________________________________________________________________________________________\n",
            "concatenate_1 (Concatenate)     (None, 832)          0           global_max_pooling1d_1[0][0]     \n",
            "                                                                 dense_3[0][0]                    \n",
            "__________________________________________________________________________________________________\n",
            "dense_4 (Dense)                 (None, 832)          693056      concatenate_1[0][0]              \n",
            "__________________________________________________________________________________________________\n",
            "add_2 (Add)                     (None, 832)          0           concatenate_1[0][0]              \n",
            "                                                                 dense_4[0][0]                    \n",
            "__________________________________________________________________________________________________\n",
            "dense_5 (Dense)                 (None, 832)          693056      add_2[0][0]                      \n",
            "__________________________________________________________________________________________________\n",
            "add_3 (Add)                     (None, 832)          0           add_2[0][0]                      \n",
            "                                                                 dense_5[0][0]                    \n",
            "__________________________________________________________________________________________________\n",
            "dropout2 (Dropout)              (None, 832)          0           add_3[0][0]                      \n",
            "__________________________________________________________________________________________________\n",
            "flatten_1 (Flatten)             (None, 832)          0           dropout2[0][0]                   \n",
            "__________________________________________________________________________________________________\n",
            "classification (Dense)          (None, 4)            3332        flatten_1[0][0]                  \n",
            "==================================================================================================\n",
            "Total params: 130,164,804\n",
            "Trainable params: 130,164,804\n",
            "Non-trainable params: 0\n",
            "__________________________________________________________________________________________________\n",
            "Epoch 1/100\n",
            "WARNING:tensorflow:Gradients do not exist for variables ['tf_roberta_model_1/roberta/pooler/dense/kernel:0', 'tf_roberta_model_1/roberta/pooler/dense/bias:0'] when minimizing the loss.\n",
            "WARNING:tensorflow:Gradients do not exist for variables ['tf_roberta_model_1/roberta/pooler/dense/kernel:0', 'tf_roberta_model_1/roberta/pooler/dense/bias:0'] when minimizing the loss.\n",
            "WARNING:tensorflow:Gradients do not exist for variables ['tf_roberta_model_1/roberta/pooler/dense/kernel:0', 'tf_roberta_model_1/roberta/pooler/dense/bias:0'] when minimizing the loss.\n",
            "WARNING:tensorflow:Gradients do not exist for variables ['tf_roberta_model_1/roberta/pooler/dense/kernel:0', 'tf_roberta_model_1/roberta/pooler/dense/bias:0'] when minimizing the loss.\n",
            "23/23 [==============================] - 11s 490ms/step - loss: 1.4876 - accuracy: 0.4508 - recall_1: 0.3766 - precision_1: 0.4743 - val_loss: 1.0815 - val_accuracy: 0.6883 - val_recall_1: 0.2597 - val_precision_1: 0.9091 - lr: 1.0000e-05\n",
            "Epoch 2/100\n",
            "23/23 [==============================] - 9s 381ms/step - loss: 1.2054 - accuracy: 0.5603 - recall_1: 0.4861 - precision_1: 0.6065 - val_loss: 0.9387 - val_accuracy: 0.6883 - val_recall_1: 0.4156 - val_precision_1: 0.9412 - lr: 5.0000e-06\n",
            "Epoch 3/100\n",
            "23/23 [==============================] - 9s 380ms/step - loss: 0.9617 - accuracy: 0.6104 - recall_1: 0.5306 - precision_1: 0.6859 - val_loss: 0.7461 - val_accuracy: 0.7532 - val_recall_1: 0.6753 - val_precision_1: 0.8814 - lr: 3.3333e-06\n",
            "Epoch 4/100\n",
            "23/23 [==============================] - 9s 382ms/step - loss: 0.7307 - accuracy: 0.7236 - recall_1: 0.6475 - precision_1: 0.7756 - val_loss: 0.6301 - val_accuracy: 0.7792 - val_recall_1: 0.7403 - val_precision_1: 0.8906 - lr: 2.5000e-06\n",
            "Epoch 5/100\n",
            "23/23 [==============================] - 9s 382ms/step - loss: 0.6027 - accuracy: 0.7792 - recall_1: 0.7365 - precision_1: 0.8305 - val_loss: 0.5586 - val_accuracy: 0.7792 - val_recall_1: 0.7532 - val_precision_1: 0.8657 - lr: 2.0000e-06\n",
            "Epoch 6/100\n",
            "23/23 [==============================] - 9s 380ms/step - loss: 0.5523 - accuracy: 0.8163 - recall_1: 0.7662 - precision_1: 0.8463 - val_loss: 0.5252 - val_accuracy: 0.7922 - val_recall_1: 0.7532 - val_precision_1: 0.8657 - lr: 1.6667e-06\n",
            "Epoch 7/100\n",
            "23/23 [==============================] - 9s 381ms/step - loss: 0.4685 - accuracy: 0.8275 - recall_1: 0.8033 - precision_1: 0.8677 - val_loss: 0.5077 - val_accuracy: 0.8052 - val_recall_1: 0.7662 - val_precision_1: 0.8429 - lr: 1.4286e-06\n",
            "Epoch 8/100\n",
            "23/23 [==============================] - 9s 384ms/step - loss: 0.4028 - accuracy: 0.8479 - recall_1: 0.8163 - precision_1: 0.8713 - val_loss: 0.4988 - val_accuracy: 0.8052 - val_recall_1: 0.7792 - val_precision_1: 0.8451 - lr: 1.2500e-06\n",
            "Epoch 9/100\n",
            "23/23 [==============================] - 9s 382ms/step - loss: 0.3570 - accuracy: 0.8683 - recall_1: 0.8479 - precision_1: 0.8943 - val_loss: 0.4925 - val_accuracy: 0.8052 - val_recall_1: 0.7662 - val_precision_1: 0.8806 - lr: 1.1111e-06\n",
            "Epoch 10/100\n",
            "23/23 [==============================] - 9s 381ms/step - loss: 0.3693 - accuracy: 0.8683 - recall_1: 0.8534 - precision_1: 0.9002 - val_loss: 0.4800 - val_accuracy: 0.8052 - val_recall_1: 0.7922 - val_precision_1: 0.8592 - lr: 1.0000e-06\n",
            "Epoch 11/100\n",
            "23/23 [==============================] - 9s 381ms/step - loss: 0.3659 - accuracy: 0.8720 - recall_1: 0.8479 - precision_1: 0.8961 - val_loss: 0.4800 - val_accuracy: 0.8312 - val_recall_1: 0.7792 - val_precision_1: 0.8955 - lr: 9.0909e-07\n",
            "Epoch 12/100\n",
            "23/23 [==============================] - 9s 381ms/step - loss: 0.3672 - accuracy: 0.8516 - recall_1: 0.8349 - precision_1: 0.8824 - val_loss: 0.4828 - val_accuracy: 0.8182 - val_recall_1: 0.7922 - val_precision_1: 0.8592 - lr: 8.3333e-07\n",
            "Epoch 13/100\n",
            "23/23 [==============================] - 9s 381ms/step - loss: 0.3296 - accuracy: 0.8961 - recall_1: 0.8701 - precision_1: 0.9160 - val_loss: 0.4809 - val_accuracy: 0.8442 - val_recall_1: 0.7792 - val_precision_1: 0.8824 - lr: 7.6923e-07\n",
            "Epoch 00013: early stopping\n"
          ],
          "name": "stdout"
        },
        {
          "output_type": "display_data",
          "data": {
            "image/png": "[encoded data removed]",
            "text/plain": [
              "<Figure size 432x288 with 1 Axes>"
            ]
          },
          "metadata": {
            "tags": [],
            "needs_background": "light"
          }
        },
        {
          "output_type": "stream",
          "text": [
            "13/13 [==============================] - 2s 127ms/step\n"
          ],
          "name": "stdout"
        },
        {
          "output_type": "stream",
          "text": [
            "Some weights of the model checkpoint at roberta-base were not used when initializing TFRobertaModel: ['lm_head']\n",
            "- This IS expected if you are initializing TFRobertaModel from the checkpoint of a model trained on another task or with another architecture (e.g. initializing a BertForSequenceClassification model from a BertForPretraining model).\n",
            "- This IS NOT expected if you are initializing TFRobertaModel from the checkpoint of a model that you expect to be exactly identical (initializing a BertForSequenceClassification model from a BertForSequenceClassification model).\n",
            "All the weights of TFRobertaModel were initialized from the model checkpoint at roberta-base.\n",
            "If your task is similar to the task the model of the ckeckpoint was trained on, you can already use TFRobertaModel for predictions without further training.\n"
          ],
          "name": "stderr"
        },
        {
          "output_type": "stream",
          "text": [
            "Model: \"model_2\"\n",
            "__________________________________________________________________________________________________\n",
            "Layer (type)                    Output Shape         Param #     Connected to                     \n",
            "==================================================================================================\n",
            "input_7 (InputLayer)            [(None, 128)]        0                                            \n",
            "__________________________________________________________________________________________________\n",
            "input_8 (InputLayer)            [(None, 128)]        0                                            \n",
            "__________________________________________________________________________________________________\n",
            "tf_roberta_model_2 (TFRobertaMo ((None, 128, 768), ( 124645632   input_7[0][0]                    \n",
            "                                                                 input_8[0][0]                    \n",
            "__________________________________________________________________________________________________\n",
            "dropout1 (Dropout)              (None, 128, 768)     0           tf_roberta_model_2[0][0]         \n",
            "__________________________________________________________________________________________________\n",
            "conv1d_2 (Conv1D)               (None, 43, 768)      4129536     dropout1[0][0]                   \n",
            "__________________________________________________________________________________________________\n",
            "input_9 (InputLayer)            [(None, 2)]          0                                            \n",
            "__________________________________________________________________________________________________\n",
            "global_max_pooling1d_2 (GlobalM (None, 768)          0           conv1d_2[0][0]                   \n",
            "__________________________________________________________________________________________________\n",
            "dense_6 (Dense)                 (None, 64)           192         input_9[0][0]                    \n",
            "__________________________________________________________________________________________________\n",
            "concatenate_2 (Concatenate)     (None, 832)          0           global_max_pooling1d_2[0][0]     \n",
            "                                                                 dense_6[0][0]                    \n",
            "__________________________________________________________________________________________________\n",
            "dense_7 (Dense)                 (None, 832)          693056      concatenate_2[0][0]              \n",
            "__________________________________________________________________________________________________\n",
            "add_4 (Add)                     (None, 832)          0           concatenate_2[0][0]              \n",
            "                                                                 dense_7[0][0]                    \n",
            "__________________________________________________________________________________________________\n",
            "dense_8 (Dense)                 (None, 832)          693056      add_4[0][0]                      \n",
            "__________________________________________________________________________________________________\n",
            "add_5 (Add)                     (None, 832)          0           add_4[0][0]                      \n",
            "                                                                 dense_8[0][0]                    \n",
            "__________________________________________________________________________________________________\n",
            "dropout2 (Dropout)              (None, 832)          0           add_5[0][0]                      \n",
            "__________________________________________________________________________________________________\n",
            "flatten_2 (Flatten)             (None, 832)          0           dropout2[0][0]                   \n",
            "__________________________________________________________________________________________________\n",
            "classification (Dense)          (None, 4)            3332        flatten_2[0][0]                  \n",
            "==================================================================================================\n",
            "Total params: 130,164,804\n",
            "Trainable params: 130,164,804\n",
            "Non-trainable params: 0\n",
            "__________________________________________________________________________________________________\n",
            "Epoch 1/100\n",
            "WARNING:tensorflow:Gradients do not exist for variables ['tf_roberta_model_2/roberta/pooler/dense/kernel:0', 'tf_roberta_model_2/roberta/pooler/dense/bias:0'] when minimizing the loss.\n",
            "WARNING:tensorflow:Gradients do not exist for variables ['tf_roberta_model_2/roberta/pooler/dense/kernel:0', 'tf_roberta_model_2/roberta/pooler/dense/bias:0'] when minimizing the loss.\n",
            "WARNING:tensorflow:Gradients do not exist for variables ['tf_roberta_model_2/roberta/pooler/dense/kernel:0', 'tf_roberta_model_2/roberta/pooler/dense/bias:0'] when minimizing the loss.\n",
            "WARNING:tensorflow:Gradients do not exist for variables ['tf_roberta_model_2/roberta/pooler/dense/kernel:0', 'tf_roberta_model_2/roberta/pooler/dense/bias:0'] when minimizing the loss.\n",
            "23/23 [==============================] - 11s 488ms/step - loss: 1.3773 - accuracy: 0.5158 - recall_2: 0.4490 - precision_2: 0.5488 - val_loss: 0.9615 - val_accuracy: 0.6494 - val_recall_2: 0.3766 - val_precision_2: 0.8788 - lr: 1.0000e-05\n",
            "Epoch 2/100\n",
            "23/23 [==============================] - 9s 380ms/step - loss: 1.0019 - accuracy: 0.6141 - recall_2: 0.5399 - precision_2: 0.6912 - val_loss: 0.8493 - val_accuracy: 0.7273 - val_recall_2: 0.5455 - val_precision_2: 0.8750 - lr: 5.0000e-06\n",
            "Epoch 3/100\n",
            "23/23 [==============================] - 9s 380ms/step - loss: 0.7870 - accuracy: 0.7050 - recall_2: 0.6512 - precision_2: 0.7783 - val_loss: 0.6963 - val_accuracy: 0.7922 - val_recall_2: 0.6883 - val_precision_2: 0.8833 - lr: 3.3333e-06\n",
            "Epoch 4/100\n",
            "23/23 [==============================] - 9s 381ms/step - loss: 0.6959 - accuracy: 0.7570 - recall_2: 0.7161 - precision_2: 0.8042 - val_loss: 0.6085 - val_accuracy: 0.7922 - val_recall_2: 0.7273 - val_precision_2: 0.8889 - lr: 2.5000e-06\n",
            "Epoch 5/100\n",
            "23/23 [==============================] - 9s 381ms/step - loss: 0.5585 - accuracy: 0.8015 - recall_2: 0.7737 - precision_2: 0.8458 - val_loss: 0.5562 - val_accuracy: 0.8052 - val_recall_2: 0.7792 - val_precision_2: 0.8824 - lr: 2.0000e-06\n",
            "Epoch 6/100\n",
            "23/23 [==============================] - 9s 381ms/step - loss: 0.4958 - accuracy: 0.8200 - recall_2: 0.7829 - precision_2: 0.8543 - val_loss: 0.5223 - val_accuracy: 0.8312 - val_recall_2: 0.7662 - val_precision_2: 0.9077 - lr: 1.6667e-06\n",
            "Epoch 7/100\n",
            "23/23 [==============================] - 9s 381ms/step - loss: 0.4478 - accuracy: 0.8442 - recall_2: 0.8052 - precision_2: 0.8750 - val_loss: 0.5138 - val_accuracy: 0.8442 - val_recall_2: 0.7922 - val_precision_2: 0.8841 - lr: 1.4286e-06\n",
            "Epoch 8/100\n",
            "23/23 [==============================] - 9s 381ms/step - loss: 0.3885 - accuracy: 0.8404 - recall_2: 0.8256 - precision_2: 0.8918 - val_loss: 0.5072 - val_accuracy: 0.8442 - val_recall_2: 0.8052 - val_precision_2: 0.8857 - lr: 1.2500e-06\n",
            "Epoch 9/100\n",
            "23/23 [==============================] - 9s 382ms/step - loss: 0.3782 - accuracy: 0.8738 - recall_2: 0.8423 - precision_2: 0.9098 - val_loss: 0.4970 - val_accuracy: 0.8442 - val_recall_2: 0.8052 - val_precision_2: 0.8732 - lr: 1.1111e-06\n",
            "Epoch 10/100\n",
            "23/23 [==============================] - 9s 381ms/step - loss: 0.3814 - accuracy: 0.8664 - recall_2: 0.8423 - precision_2: 0.8885 - val_loss: 0.5037 - val_accuracy: 0.8442 - val_recall_2: 0.8052 - val_precision_2: 0.8857 - lr: 1.0000e-06\n",
            "Epoch 11/100\n",
            "23/23 [==============================] - 9s 380ms/step - loss: 0.3416 - accuracy: 0.8720 - recall_2: 0.8534 - precision_2: 0.9002 - val_loss: 0.4869 - val_accuracy: 0.8312 - val_recall_2: 0.8182 - val_precision_2: 0.8873 - lr: 9.0909e-07\n",
            "Epoch 12/100\n",
            "23/23 [==============================] - 9s 381ms/step - loss: 0.3221 - accuracy: 0.8850 - recall_2: 0.8609 - precision_2: 0.9027 - val_loss: 0.4920 - val_accuracy: 0.8442 - val_recall_2: 0.8182 - val_precision_2: 0.8630 - lr: 8.3333e-07\n",
            "Epoch 13/100\n",
            "23/23 [==============================] - 9s 380ms/step - loss: 0.3155 - accuracy: 0.8757 - recall_2: 0.8646 - precision_2: 0.8927 - val_loss: 0.4943 - val_accuracy: 0.8442 - val_recall_2: 0.8182 - val_precision_2: 0.8630 - lr: 7.6923e-07\n",
            "Epoch 14/100\n",
            "23/23 [==============================] - 9s 380ms/step - loss: 0.3050 - accuracy: 0.9054 - recall_2: 0.8905 - precision_2: 0.9143 - val_loss: 0.5044 - val_accuracy: 0.8442 - val_recall_2: 0.8182 - val_precision_2: 0.8630 - lr: 7.1429e-07\n",
            "Epoch 00014: early stopping\n"
          ],
          "name": "stdout"
        },
        {
          "output_type": "display_data",
          "data": {
            "image/png": "[encoded data removed]",
            "text/plain": [
              "<Figure size 432x288 with 1 Axes>"
            ]
          },
          "metadata": {
            "tags": [],
            "needs_background": "light"
          }
        },
        {
          "output_type": "stream",
          "text": [
            "13/13 [==============================] - 2s 126ms/step\n"
          ],
          "name": "stdout"
        },
        {
          "output_type": "stream",
          "text": [
            "Some weights of the model checkpoint at roberta-base were not used when initializing TFRobertaModel: ['lm_head']\n",
            "- This IS expected if you are initializing TFRobertaModel from the checkpoint of a model trained on another task or with another architecture (e.g. initializing a BertForSequenceClassification model from a BertForPretraining model).\n",
            "- This IS NOT expected if you are initializing TFRobertaModel from the checkpoint of a model that you expect to be exactly identical (initializing a BertForSequenceClassification model from a BertForSequenceClassification model).\n",
            "All the weights of TFRobertaModel were initialized from the model checkpoint at roberta-base.\n",
            "If your task is similar to the task the model of the ckeckpoint was trained on, you can already use TFRobertaModel for predictions without further training.\n"
          ],
          "name": "stderr"
        },
        {
          "output_type": "stream",
          "text": [
            "Model: \"model_3\"\n",
            "__________________________________________________________________________________________________\n",
            "Layer (type)                    Output Shape         Param #     Connected to                     \n",
            "==================================================================================================\n",
            "input_10 (InputLayer)           [(None, 128)]        0                                            \n",
            "__________________________________________________________________________________________________\n",
            "input_11 (InputLayer)           [(None, 128)]        0                                            \n",
            "__________________________________________________________________________________________________\n",
            "tf_roberta_model_3 (TFRobertaMo ((None, 128, 768), ( 124645632   input_10[0][0]                   \n",
            "                                                                 input_11[0][0]                   \n",
            "__________________________________________________________________________________________________\n",
            "dropout1 (Dropout)              (None, 128, 768)     0           tf_roberta_model_3[0][0]         \n",
            "__________________________________________________________________________________________________\n",
            "conv1d_3 (Conv1D)               (None, 43, 768)      4129536     dropout1[0][0]                   \n",
            "__________________________________________________________________________________________________\n",
            "input_12 (InputLayer)           [(None, 2)]          0                                            \n",
            "__________________________________________________________________________________________________\n",
            "global_max_pooling1d_3 (GlobalM (None, 768)          0           conv1d_3[0][0]                   \n",
            "__________________________________________________________________________________________________\n",
            "dense_9 (Dense)                 (None, 64)           192         input_12[0][0]                   \n",
            "__________________________________________________________________________________________________\n",
            "concatenate_3 (Concatenate)     (None, 832)          0           global_max_pooling1d_3[0][0]     \n",
            "                                                                 dense_9[0][0]                    \n",
            "__________________________________________________________________________________________________\n",
            "dense_10 (Dense)                (None, 832)          693056      concatenate_3[0][0]              \n",
            "__________________________________________________________________________________________________\n",
            "add_6 (Add)                     (None, 832)          0           concatenate_3[0][0]              \n",
            "                                                                 dense_10[0][0]                   \n",
            "__________________________________________________________________________________________________\n",
            "dense_11 (Dense)                (None, 832)          693056      add_6[0][0]                      \n",
            "__________________________________________________________________________________________________\n",
            "add_7 (Add)                     (None, 832)          0           add_6[0][0]                      \n",
            "                                                                 dense_11[0][0]                   \n",
            "__________________________________________________________________________________________________\n",
            "dropout2 (Dropout)              (None, 832)          0           add_7[0][0]                      \n",
            "__________________________________________________________________________________________________\n",
            "flatten_3 (Flatten)             (None, 832)          0           dropout2[0][0]                   \n",
            "__________________________________________________________________________________________________\n",
            "classification (Dense)          (None, 4)            3332        flatten_3[0][0]                  \n",
            "==================================================================================================\n",
            "Total params: 130,164,804\n",
            "Trainable params: 130,164,804\n",
            "Non-trainable params: 0\n",
            "__________________________________________________________________________________________________\n",
            "Epoch 1/100\n",
            "WARNING:tensorflow:Gradients do not exist for variables ['tf_roberta_model_3/roberta/pooler/dense/kernel:0', 'tf_roberta_model_3/roberta/pooler/dense/bias:0'] when minimizing the loss.\n",
            "WARNING:tensorflow:Gradients do not exist for variables ['tf_roberta_model_3/roberta/pooler/dense/kernel:0', 'tf_roberta_model_3/roberta/pooler/dense/bias:0'] when minimizing the loss.\n",
            "WARNING:tensorflow:Gradients do not exist for variables ['tf_roberta_model_3/roberta/pooler/dense/kernel:0', 'tf_roberta_model_3/roberta/pooler/dense/bias:0'] when minimizing the loss.\n",
            "WARNING:tensorflow:Gradients do not exist for variables ['tf_roberta_model_3/roberta/pooler/dense/kernel:0', 'tf_roberta_model_3/roberta/pooler/dense/bias:0'] when minimizing the loss.\n",
            "23/23 [==============================] - 11s 490ms/step - loss: 1.3376 - accuracy: 0.5288 - recall_3: 0.4731 - precision_3: 0.5543 - val_loss: 0.8478 - val_accuracy: 0.6104 - val_recall_3: 0.4935 - val_precision_3: 0.8261 - lr: 1.0000e-05\n",
            "Epoch 2/100\n",
            "23/23 [==============================] - 9s 381ms/step - loss: 0.9579 - accuracy: 0.6327 - recall_3: 0.5547 - precision_3: 0.6937 - val_loss: 0.6510 - val_accuracy: 0.7532 - val_recall_3: 0.6623 - val_precision_3: 0.8500 - lr: 5.0000e-06\n",
            "Epoch 3/100\n",
            "23/23 [==============================] - 9s 381ms/step - loss: 0.6643 - accuracy: 0.7551 - recall_3: 0.7013 - precision_3: 0.8060 - val_loss: 0.5424 - val_accuracy: 0.7922 - val_recall_3: 0.7013 - val_precision_3: 0.8438 - lr: 3.3333e-06\n",
            "Epoch 4/100\n",
            "23/23 [==============================] - 9s 382ms/step - loss: 0.6131 - accuracy: 0.7774 - recall_3: 0.7365 - precision_3: 0.8254 - val_loss: 0.4769 - val_accuracy: 0.8182 - val_recall_3: 0.7403 - val_precision_3: 0.8507 - lr: 2.5000e-06\n",
            "Epoch 5/100\n",
            "23/23 [==============================] - 9s 382ms/step - loss: 0.5052 - accuracy: 0.8033 - recall_3: 0.7774 - precision_3: 0.8347 - val_loss: 0.4356 - val_accuracy: 0.8701 - val_recall_3: 0.7403 - val_precision_3: 0.8769 - lr: 2.0000e-06\n",
            "Epoch 6/100\n",
            "23/23 [==============================] - 9s 382ms/step - loss: 0.4358 - accuracy: 0.8479 - recall_3: 0.8033 - precision_3: 0.8747 - val_loss: 0.4056 - val_accuracy: 0.8571 - val_recall_3: 0.7922 - val_precision_3: 0.8971 - lr: 1.6667e-06\n",
            "Epoch 7/100\n",
            "23/23 [==============================] - 9s 382ms/step - loss: 0.4384 - accuracy: 0.8293 - recall_3: 0.8145 - precision_3: 0.8608 - val_loss: 0.3964 - val_accuracy: 0.8701 - val_recall_3: 0.8182 - val_precision_3: 0.8873 - lr: 1.4286e-06\n",
            "Epoch 8/100\n",
            "23/23 [==============================] - 9s 382ms/step - loss: 0.3985 - accuracy: 0.8516 - recall_3: 0.8312 - precision_3: 0.8767 - val_loss: 0.3779 - val_accuracy: 0.8571 - val_recall_3: 0.8052 - val_precision_3: 0.8986 - lr: 1.2500e-06\n",
            "Epoch 9/100\n",
            "23/23 [==============================] - 9s 382ms/step - loss: 0.3831 - accuracy: 0.8553 - recall_3: 0.8442 - precision_3: 0.8904 - val_loss: 0.3604 - val_accuracy: 0.8571 - val_recall_3: 0.8442 - val_precision_3: 0.9155 - lr: 1.1111e-06\n",
            "Epoch 10/100\n",
            "23/23 [==============================] - 9s 383ms/step - loss: 0.3312 - accuracy: 0.8776 - recall_3: 0.8553 - precision_3: 0.9057 - val_loss: 0.3478 - val_accuracy: 0.8701 - val_recall_3: 0.8442 - val_precision_3: 0.9155 - lr: 1.0000e-06\n",
            "Epoch 11/100\n",
            "23/23 [==============================] - 9s 381ms/step - loss: 0.3395 - accuracy: 0.8831 - recall_3: 0.8553 - precision_3: 0.9147 - val_loss: 0.3447 - val_accuracy: 0.8571 - val_recall_3: 0.8571 - val_precision_3: 0.9041 - lr: 9.0909e-07\n",
            "Epoch 12/100\n",
            "23/23 [==============================] - 9s 382ms/step - loss: 0.3244 - accuracy: 0.8757 - recall_3: 0.8609 - precision_3: 0.8940 - val_loss: 0.3384 - val_accuracy: 0.8571 - val_recall_3: 0.8571 - val_precision_3: 0.9041 - lr: 8.3333e-07\n",
            "Epoch 13/100\n",
            "23/23 [==============================] - 9s 381ms/step - loss: 0.2962 - accuracy: 0.8942 - recall_3: 0.8794 - precision_3: 0.9115 - val_loss: 0.3358 - val_accuracy: 0.8571 - val_recall_3: 0.8571 - val_precision_3: 0.9041 - lr: 7.6923e-07\n",
            "Epoch 14/100\n",
            "23/23 [==============================] - 9s 381ms/step - loss: 0.3003 - accuracy: 0.8942 - recall_3: 0.8794 - precision_3: 0.9204 - val_loss: 0.3336 - val_accuracy: 0.8571 - val_recall_3: 0.8442 - val_precision_3: 0.9028 - lr: 7.1429e-07\n",
            "Epoch 15/100\n",
            "23/23 [==============================] - 9s 381ms/step - loss: 0.2839 - accuracy: 0.8924 - recall_3: 0.8701 - precision_3: 0.9196 - val_loss: 0.3330 - val_accuracy: 0.8571 - val_recall_3: 0.8571 - val_precision_3: 0.9041 - lr: 6.6667e-07\n",
            "Epoch 16/100\n",
            "23/23 [==============================] - 9s 381ms/step - loss: 0.2950 - accuracy: 0.8868 - recall_3: 0.8738 - precision_3: 0.9058 - val_loss: 0.3258 - val_accuracy: 0.8571 - val_recall_3: 0.8571 - val_precision_3: 0.9041 - lr: 6.2500e-07\n",
            "Epoch 17/100\n",
            "23/23 [==============================] - 9s 381ms/step - loss: 0.2563 - accuracy: 0.9091 - recall_3: 0.8942 - precision_3: 0.9323 - val_loss: 0.3252 - val_accuracy: 0.8571 - val_recall_3: 0.8571 - val_precision_3: 0.9041 - lr: 5.8824e-07\n",
            "Epoch 18/100\n",
            "23/23 [==============================] - 9s 381ms/step - loss: 0.2336 - accuracy: 0.9128 - recall_3: 0.8905 - precision_3: 0.9339 - val_loss: 0.3289 - val_accuracy: 0.8571 - val_recall_3: 0.8571 - val_precision_3: 0.9041 - lr: 5.5556e-07\n",
            "Epoch 19/100\n",
            "23/23 [==============================] - 9s 381ms/step - loss: 0.2486 - accuracy: 0.8998 - recall_3: 0.8868 - precision_3: 0.9192 - val_loss: 0.3241 - val_accuracy: 0.8571 - val_recall_3: 0.8571 - val_precision_3: 0.8919 - lr: 5.2632e-07\n",
            "Epoch 20/100\n",
            "23/23 [==============================] - 9s 381ms/step - loss: 0.2452 - accuracy: 0.9147 - recall_3: 0.9128 - precision_3: 0.9301 - val_loss: 0.3246 - val_accuracy: 0.8571 - val_recall_3: 0.8442 - val_precision_3: 0.8904 - lr: 5.0000e-07\n",
            "Epoch 21/100\n",
            "23/23 [==============================] - 9s 381ms/step - loss: 0.2113 - accuracy: 0.9258 - recall_3: 0.9109 - precision_3: 0.9388 - val_loss: 0.3232 - val_accuracy: 0.8571 - val_recall_3: 0.8442 - val_precision_3: 0.8784 - lr: 4.7619e-07\n",
            "Epoch 22/100\n",
            "23/23 [==============================] - 9s 381ms/step - loss: 0.2672 - accuracy: 0.8831 - recall_3: 0.8664 - precision_3: 0.8964 - val_loss: 0.3260 - val_accuracy: 0.8571 - val_recall_3: 0.8571 - val_precision_3: 0.9041 - lr: 4.5455e-07\n",
            "Epoch 23/100\n",
            "23/23 [==============================] - 9s 382ms/step - loss: 0.2371 - accuracy: 0.9147 - recall_3: 0.8998 - precision_3: 0.9291 - val_loss: 0.3229 - val_accuracy: 0.8571 - val_recall_3: 0.8442 - val_precision_3: 0.8784 - lr: 4.3478e-07\n",
            "Epoch 24/100\n",
            "23/23 [==============================] - 9s 382ms/step - loss: 0.2041 - accuracy: 0.9147 - recall_3: 0.8980 - precision_3: 0.9398 - val_loss: 0.3224 - val_accuracy: 0.8831 - val_recall_3: 0.8571 - val_precision_3: 0.9041 - lr: 4.1667e-07\n",
            "Epoch 25/100\n",
            "23/23 [==============================] - 9s 381ms/step - loss: 0.2098 - accuracy: 0.9128 - recall_3: 0.8961 - precision_3: 0.9434 - val_loss: 0.3239 - val_accuracy: 0.8831 - val_recall_3: 0.8831 - val_precision_3: 0.9189 - lr: 4.0000e-07\n",
            "Epoch 26/100\n",
            "23/23 [==============================] - 9s 382ms/step - loss: 0.2184 - accuracy: 0.9147 - recall_3: 0.8980 - precision_3: 0.9380 - val_loss: 0.3221 - val_accuracy: 0.8831 - val_recall_3: 0.8701 - val_precision_3: 0.9178 - lr: 3.8462e-07\n",
            "Epoch 27/100\n",
            "23/23 [==============================] - 9s 381ms/step - loss: 0.1996 - accuracy: 0.9184 - recall_3: 0.9054 - precision_3: 0.9349 - val_loss: 0.3213 - val_accuracy: 0.8831 - val_recall_3: 0.8701 - val_precision_3: 0.9178 - lr: 3.7037e-07\n",
            "Epoch 28/100\n",
            "23/23 [==============================] - 9s 381ms/step - loss: 0.2243 - accuracy: 0.9184 - recall_3: 0.9054 - precision_3: 0.9331 - val_loss: 0.3224 - val_accuracy: 0.8831 - val_recall_3: 0.8701 - val_precision_3: 0.9178 - lr: 3.5714e-07\n",
            "Epoch 29/100\n",
            "23/23 [==============================] - 9s 381ms/step - loss: 0.1963 - accuracy: 0.9314 - recall_3: 0.9165 - precision_3: 0.9356 - val_loss: 0.3234 - val_accuracy: 0.8831 - val_recall_3: 0.8701 - val_precision_3: 0.9054 - lr: 3.4483e-07\n",
            "Epoch 30/100\n",
            "23/23 [==============================] - 9s 381ms/step - loss: 0.1959 - accuracy: 0.9258 - recall_3: 0.9147 - precision_3: 0.9390 - val_loss: 0.3227 - val_accuracy: 0.8831 - val_recall_3: 0.8701 - val_precision_3: 0.9306 - lr: 3.3333e-07\n",
            "Epoch 00030: early stopping\n"
          ],
          "name": "stdout"
        },
        {
          "output_type": "display_data",
          "data": {
            "image/png": "[encoded data removed]",
            "text/plain": [
              "<Figure size 432x288 with 1 Axes>"
            ]
          },
          "metadata": {
            "tags": [],
            "needs_background": "light"
          }
        },
        {
          "output_type": "stream",
          "text": [
            "13/13 [==============================] - 2s 126ms/step\n"
          ],
          "name": "stdout"
        },
        {
          "output_type": "stream",
          "text": [
            "Some weights of the model checkpoint at roberta-base were not used when initializing TFRobertaModel: ['lm_head']\n",
            "- This IS expected if you are initializing TFRobertaModel from the checkpoint of a model trained on another task or with another architecture (e.g. initializing a BertForSequenceClassification model from a BertForPretraining model).\n",
            "- This IS NOT expected if you are initializing TFRobertaModel from the checkpoint of a model that you expect to be exactly identical (initializing a BertForSequenceClassification model from a BertForSequenceClassification model).\n",
            "All the weights of TFRobertaModel were initialized from the model checkpoint at roberta-base.\n",
            "If your task is similar to the task the model of the ckeckpoint was trained on, you can already use TFRobertaModel for predictions without further training.\n"
          ],
          "name": "stderr"
        },
        {
          "output_type": "stream",
          "text": [
            "Model: \"model_4\"\n",
            "__________________________________________________________________________________________________\n",
            "Layer (type)                    Output Shape         Param #     Connected to                     \n",
            "==================================================================================================\n",
            "input_13 (InputLayer)           [(None, 128)]        0                                            \n",
            "__________________________________________________________________________________________________\n",
            "input_14 (InputLayer)           [(None, 128)]        0                                            \n",
            "__________________________________________________________________________________________________\n",
            "tf_roberta_model_4 (TFRobertaMo ((None, 128, 768), ( 124645632   input_13[0][0]                   \n",
            "                                                                 input_14[0][0]                   \n",
            "__________________________________________________________________________________________________\n",
            "dropout1 (Dropout)              (None, 128, 768)     0           tf_roberta_model_4[0][0]         \n",
            "__________________________________________________________________________________________________\n",
            "conv1d_4 (Conv1D)               (None, 43, 768)      4129536     dropout1[0][0]                   \n",
            "__________________________________________________________________________________________________\n",
            "input_15 (InputLayer)           [(None, 2)]          0                                            \n",
            "__________________________________________________________________________________________________\n",
            "global_max_pooling1d_4 (GlobalM (None, 768)          0           conv1d_4[0][0]                   \n",
            "__________________________________________________________________________________________________\n",
            "dense_12 (Dense)                (None, 64)           192         input_15[0][0]                   \n",
            "__________________________________________________________________________________________________\n",
            "concatenate_4 (Concatenate)     (None, 832)          0           global_max_pooling1d_4[0][0]     \n",
            "                                                                 dense_12[0][0]                   \n",
            "__________________________________________________________________________________________________\n",
            "dense_13 (Dense)                (None, 832)          693056      concatenate_4[0][0]              \n",
            "__________________________________________________________________________________________________\n",
            "add_8 (Add)                     (None, 832)          0           concatenate_4[0][0]              \n",
            "                                                                 dense_13[0][0]                   \n",
            "__________________________________________________________________________________________________\n",
            "dense_14 (Dense)                (None, 832)          693056      add_8[0][0]                      \n",
            "__________________________________________________________________________________________________\n",
            "add_9 (Add)                     (None, 832)          0           add_8[0][0]                      \n",
            "                                                                 dense_14[0][0]                   \n",
            "__________________________________________________________________________________________________\n",
            "dropout2 (Dropout)              (None, 832)          0           add_9[0][0]                      \n",
            "__________________________________________________________________________________________________\n",
            "flatten_4 (Flatten)             (None, 832)          0           dropout2[0][0]                   \n",
            "__________________________________________________________________________________________________\n",
            "classification (Dense)          (None, 4)            3332        flatten_4[0][0]                  \n",
            "==================================================================================================\n",
            "Total params: 130,164,804\n",
            "Trainable params: 130,164,804\n",
            "Non-trainable params: 0\n",
            "__________________________________________________________________________________________________\n",
            "Epoch 1/100\n",
            "WARNING:tensorflow:Gradients do not exist for variables ['tf_roberta_model_4/roberta/pooler/dense/kernel:0', 'tf_roberta_model_4/roberta/pooler/dense/bias:0'] when minimizing the loss.\n",
            "WARNING:tensorflow:Gradients do not exist for variables ['tf_roberta_model_4/roberta/pooler/dense/kernel:0', 'tf_roberta_model_4/roberta/pooler/dense/bias:0'] when minimizing the loss.\n",
            "WARNING:tensorflow:Gradients do not exist for variables ['tf_roberta_model_4/roberta/pooler/dense/kernel:0', 'tf_roberta_model_4/roberta/pooler/dense/bias:0'] when minimizing the loss.\n",
            "WARNING:tensorflow:Gradients do not exist for variables ['tf_roberta_model_4/roberta/pooler/dense/kernel:0', 'tf_roberta_model_4/roberta/pooler/dense/bias:0'] when minimizing the loss.\n",
            "23/23 [==============================] - 11s 488ms/step - loss: 1.3029 - accuracy: 0.5288 - recall_4: 0.4397 - precision_4: 0.5670 - val_loss: 1.0033 - val_accuracy: 0.6234 - val_recall_4: 0.3506 - val_precision_4: 0.9643 - lr: 1.0000e-05\n",
            "Epoch 2/100\n",
            "23/23 [==============================] - 9s 382ms/step - loss: 0.9958 - accuracy: 0.6401 - recall_4: 0.5770 - precision_4: 0.7084 - val_loss: 0.7543 - val_accuracy: 0.7273 - val_recall_4: 0.5974 - val_precision_4: 0.9583 - lr: 5.0000e-06\n",
            "Epoch 3/100\n",
            "23/23 [==============================] - 9s 382ms/step - loss: 0.7641 - accuracy: 0.7328 - recall_4: 0.6809 - precision_4: 0.7909 - val_loss: 0.6360 - val_accuracy: 0.7662 - val_recall_4: 0.6364 - val_precision_4: 0.9074 - lr: 3.3333e-06\n",
            "Epoch 4/100\n",
            "23/23 [==============================] - 9s 381ms/step - loss: 0.5879 - accuracy: 0.7699 - recall_4: 0.7365 - precision_4: 0.8237 - val_loss: 0.5549 - val_accuracy: 0.8052 - val_recall_4: 0.7013 - val_precision_4: 0.8710 - lr: 2.5000e-06\n",
            "Epoch 5/100\n",
            "23/23 [==============================] - 9s 381ms/step - loss: 0.4698 - accuracy: 0.8293 - recall_4: 0.8089 - precision_4: 0.8773 - val_loss: 0.5189 - val_accuracy: 0.8052 - val_recall_4: 0.7403 - val_precision_4: 0.8636 - lr: 2.0000e-06\n",
            "Epoch 6/100\n",
            "23/23 [==============================] - 9s 381ms/step - loss: 0.4388 - accuracy: 0.8516 - recall_4: 0.8312 - precision_4: 0.8924 - val_loss: 0.5034 - val_accuracy: 0.7922 - val_recall_4: 0.7532 - val_precision_4: 0.8788 - lr: 1.6667e-06\n",
            "Epoch 7/100\n",
            "23/23 [==============================] - 9s 381ms/step - loss: 0.4141 - accuracy: 0.8460 - recall_4: 0.8219 - precision_4: 0.8652 - val_loss: 0.4955 - val_accuracy: 0.7922 - val_recall_4: 0.7662 - val_precision_4: 0.8676 - lr: 1.4286e-06\n",
            "Epoch 8/100\n",
            "23/23 [==============================] - 9s 381ms/step - loss: 0.3778 - accuracy: 0.8720 - recall_4: 0.8404 - precision_4: 0.8953 - val_loss: 0.4762 - val_accuracy: 0.8052 - val_recall_4: 0.7922 - val_precision_4: 0.8714 - lr: 1.2500e-06\n",
            "Epoch 9/100\n",
            "23/23 [==============================] - 9s 381ms/step - loss: 0.3425 - accuracy: 0.8813 - recall_4: 0.8683 - precision_4: 0.9000 - val_loss: 0.4739 - val_accuracy: 0.8052 - val_recall_4: 0.8052 - val_precision_4: 0.8611 - lr: 1.1111e-06\n",
            "Epoch 10/100\n",
            "23/23 [==============================] - 9s 383ms/step - loss: 0.3860 - accuracy: 0.8609 - recall_4: 0.8312 - precision_4: 0.8978 - val_loss: 0.4957 - val_accuracy: 0.8052 - val_recall_4: 0.8052 - val_precision_4: 0.8611 - lr: 1.0000e-06\n",
            "Epoch 11/100\n",
            "23/23 [==============================] - 9s 384ms/step - loss: 0.3426 - accuracy: 0.8701 - recall_4: 0.8497 - precision_4: 0.8980 - val_loss: 0.5096 - val_accuracy: 0.8052 - val_recall_4: 0.8052 - val_precision_4: 0.8611 - lr: 9.0909e-07\n",
            "Epoch 12/100\n",
            "23/23 [==============================] - 9s 381ms/step - loss: 0.2940 - accuracy: 0.8961 - recall_4: 0.8794 - precision_4: 0.9080 - val_loss: 0.4906 - val_accuracy: 0.8052 - val_recall_4: 0.8052 - val_precision_4: 0.8611 - lr: 8.3333e-07\n",
            "Epoch 00012: early stopping\n"
          ],
          "name": "stdout"
        },
        {
          "output_type": "display_data",
          "data": {
            "image/png": "[encoded data removed]",
            "text/plain": [
              "<Figure size 432x288 with 1 Axes>"
            ]
          },
          "metadata": {
            "tags": [],
            "needs_background": "light"
          }
        },
        {
          "output_type": "stream",
          "text": [
            "13/13 [==============================] - 2s 126ms/step\n"
          ],
          "name": "stdout"
        },
        {
          "output_type": "stream",
          "text": [
            "Some weights of the model checkpoint at roberta-base were not used when initializing TFRobertaModel: ['lm_head']\n",
            "- This IS expected if you are initializing TFRobertaModel from the checkpoint of a model trained on another task or with another architecture (e.g. initializing a BertForSequenceClassification model from a BertForPretraining model).\n",
            "- This IS NOT expected if you are initializing TFRobertaModel from the checkpoint of a model that you expect to be exactly identical (initializing a BertForSequenceClassification model from a BertForSequenceClassification model).\n",
            "All the weights of TFRobertaModel were initialized from the model checkpoint at roberta-base.\n",
            "If your task is similar to the task the model of the ckeckpoint was trained on, you can already use TFRobertaModel for predictions without further training.\n"
          ],
          "name": "stderr"
        },
        {
          "output_type": "stream",
          "text": [
            "Model: \"model_5\"\n",
            "__________________________________________________________________________________________________\n",
            "Layer (type)                    Output Shape         Param #     Connected to                     \n",
            "==================================================================================================\n",
            "input_16 (InputLayer)           [(None, 128)]        0                                            \n",
            "__________________________________________________________________________________________________\n",
            "input_17 (InputLayer)           [(None, 128)]        0                                            \n",
            "__________________________________________________________________________________________________\n",
            "tf_roberta_model_5 (TFRobertaMo ((None, 128, 768), ( 124645632   input_16[0][0]                   \n",
            "                                                                 input_17[0][0]                   \n",
            "__________________________________________________________________________________________________\n",
            "dropout1 (Dropout)              (None, 128, 768)     0           tf_roberta_model_5[0][0]         \n",
            "__________________________________________________________________________________________________\n",
            "conv1d_5 (Conv1D)               (None, 43, 768)      4129536     dropout1[0][0]                   \n",
            "__________________________________________________________________________________________________\n",
            "input_18 (InputLayer)           [(None, 2)]          0                                            \n",
            "__________________________________________________________________________________________________\n",
            "global_max_pooling1d_5 (GlobalM (None, 768)          0           conv1d_5[0][0]                   \n",
            "__________________________________________________________________________________________________\n",
            "dense_15 (Dense)                (None, 64)           192         input_18[0][0]                   \n",
            "__________________________________________________________________________________________________\n",
            "concatenate_5 (Concatenate)     (None, 832)          0           global_max_pooling1d_5[0][0]     \n",
            "                                                                 dense_15[0][0]                   \n",
            "__________________________________________________________________________________________________\n",
            "dense_16 (Dense)                (None, 832)          693056      concatenate_5[0][0]              \n",
            "__________________________________________________________________________________________________\n",
            "add_10 (Add)                    (None, 832)          0           concatenate_5[0][0]              \n",
            "                                                                 dense_16[0][0]                   \n",
            "__________________________________________________________________________________________________\n",
            "dense_17 (Dense)                (None, 832)          693056      add_10[0][0]                     \n",
            "__________________________________________________________________________________________________\n",
            "add_11 (Add)                    (None, 832)          0           add_10[0][0]                     \n",
            "                                                                 dense_17[0][0]                   \n",
            "__________________________________________________________________________________________________\n",
            "dropout2 (Dropout)              (None, 832)          0           add_11[0][0]                     \n",
            "__________________________________________________________________________________________________\n",
            "flatten_5 (Flatten)             (None, 832)          0           dropout2[0][0]                   \n",
            "__________________________________________________________________________________________________\n",
            "classification (Dense)          (None, 4)            3332        flatten_5[0][0]                  \n",
            "==================================================================================================\n",
            "Total params: 130,164,804\n",
            "Trainable params: 130,164,804\n",
            "Non-trainable params: 0\n",
            "__________________________________________________________________________________________________\n",
            "Epoch 1/100\n",
            "WARNING:tensorflow:Gradients do not exist for variables ['tf_roberta_model_5/roberta/pooler/dense/kernel:0', 'tf_roberta_model_5/roberta/pooler/dense/bias:0'] when minimizing the loss.\n",
            "WARNING:tensorflow:Gradients do not exist for variables ['tf_roberta_model_5/roberta/pooler/dense/kernel:0', 'tf_roberta_model_5/roberta/pooler/dense/bias:0'] when minimizing the loss.\n",
            "WARNING:tensorflow:Gradients do not exist for variables ['tf_roberta_model_5/roberta/pooler/dense/kernel:0', 'tf_roberta_model_5/roberta/pooler/dense/bias:0'] when minimizing the loss.\n",
            "WARNING:tensorflow:Gradients do not exist for variables ['tf_roberta_model_5/roberta/pooler/dense/kernel:0', 'tf_roberta_model_5/roberta/pooler/dense/bias:0'] when minimizing the loss.\n",
            "23/23 [==============================] - 11s 489ms/step - loss: 1.2718 - accuracy: 0.5121 - recall_5: 0.4453 - precision_5: 0.5405 - val_loss: 0.8681 - val_accuracy: 0.6623 - val_recall_5: 0.4156 - val_precision_5: 0.9412 - lr: 1.0000e-05\n",
            "Epoch 2/100\n",
            "23/23 [==============================] - 9s 381ms/step - loss: 0.8381 - accuracy: 0.7087 - recall_5: 0.6494 - precision_5: 0.7479 - val_loss: 0.6712 - val_accuracy: 0.7273 - val_recall_5: 0.5844 - val_precision_5: 0.9000 - lr: 5.0000e-06\n",
            "Epoch 3/100\n",
            "23/23 [==============================] - 9s 382ms/step - loss: 0.5831 - accuracy: 0.7644 - recall_5: 0.7328 - precision_5: 0.8111 - val_loss: 0.5311 - val_accuracy: 0.7922 - val_recall_5: 0.7273 - val_precision_5: 0.8615 - lr: 3.3333e-06\n",
            "Epoch 4/100\n",
            "23/23 [==============================] - 9s 381ms/step - loss: 0.4997 - accuracy: 0.8200 - recall_5: 0.7885 - precision_5: 0.8517 - val_loss: 0.5162 - val_accuracy: 0.7792 - val_recall_5: 0.7532 - val_precision_5: 0.8529 - lr: 2.5000e-06\n",
            "Epoch 5/100\n",
            "23/23 [==============================] - 9s 381ms/step - loss: 0.4681 - accuracy: 0.8312 - recall_5: 0.8219 - precision_5: 0.8585 - val_loss: 0.5019 - val_accuracy: 0.8052 - val_recall_5: 0.7532 - val_precision_5: 0.8923 - lr: 2.0000e-06\n",
            "Epoch 6/100\n",
            "23/23 [==============================] - 9s 380ms/step - loss: 0.3849 - accuracy: 0.8757 - recall_5: 0.8442 - precision_5: 0.8869 - val_loss: 0.4833 - val_accuracy: 0.8052 - val_recall_5: 0.7662 - val_precision_5: 0.8939 - lr: 1.6667e-06\n",
            "Epoch 7/100\n",
            "23/23 [==============================] - 9s 382ms/step - loss: 0.3790 - accuracy: 0.8590 - recall_5: 0.8423 - precision_5: 0.8816 - val_loss: 0.4790 - val_accuracy: 0.8182 - val_recall_5: 0.7532 - val_precision_5: 0.8923 - lr: 1.4286e-06\n",
            "Epoch 8/100\n",
            "23/23 [==============================] - 9s 381ms/step - loss: 0.3245 - accuracy: 0.8738 - recall_5: 0.8534 - precision_5: 0.9020 - val_loss: 0.4650 - val_accuracy: 0.8052 - val_recall_5: 0.7792 - val_precision_5: 0.8955 - lr: 1.2500e-06\n",
            "Epoch 9/100\n",
            "23/23 [==============================] - 9s 381ms/step - loss: 0.2968 - accuracy: 0.8850 - recall_5: 0.8701 - precision_5: 0.9089 - val_loss: 0.4468 - val_accuracy: 0.8052 - val_recall_5: 0.7922 - val_precision_5: 0.8714 - lr: 1.1111e-06\n",
            "Epoch 10/100\n",
            "23/23 [==============================] - 9s 382ms/step - loss: 0.3344 - accuracy: 0.8905 - recall_5: 0.8627 - precision_5: 0.9029 - val_loss: 0.4580 - val_accuracy: 0.8052 - val_recall_5: 0.7922 - val_precision_5: 0.8971 - lr: 1.0000e-06\n",
            "Epoch 11/100\n",
            "23/23 [==============================] - 9s 380ms/step - loss: 0.2964 - accuracy: 0.8868 - recall_5: 0.8720 - precision_5: 0.9021 - val_loss: 0.4623 - val_accuracy: 0.8182 - val_recall_5: 0.7532 - val_precision_5: 0.8923 - lr: 9.0909e-07\n",
            "Epoch 12/100\n",
            "23/23 [==============================] - 9s 381ms/step - loss: 0.2982 - accuracy: 0.8905 - recall_5: 0.8757 - precision_5: 0.9094 - val_loss: 0.4674 - val_accuracy: 0.7922 - val_recall_5: 0.7792 - val_precision_5: 0.8955 - lr: 8.3333e-07\n",
            "Epoch 00012: early stopping\n"
          ],
          "name": "stdout"
        },
        {
          "output_type": "display_data",
          "data": {
            "image/png": "[encoded data removed]",
            "text/plain": [
              "<Figure size 432x288 with 1 Axes>"
            ]
          },
          "metadata": {
            "tags": [],
            "needs_background": "light"
          }
        },
        {
          "output_type": "stream",
          "text": [
            "13/13 [==============================] - 2s 128ms/step\n"
          ],
          "name": "stdout"
        },
        {
          "output_type": "stream",
          "text": [
            "Some weights of the model checkpoint at roberta-base were not used when initializing TFRobertaModel: ['lm_head']\n",
            "- This IS expected if you are initializing TFRobertaModel from the checkpoint of a model trained on another task or with another architecture (e.g. initializing a BertForSequenceClassification model from a BertForPretraining model).\n",
            "- This IS NOT expected if you are initializing TFRobertaModel from the checkpoint of a model that you expect to be exactly identical (initializing a BertForSequenceClassification model from a BertForSequenceClassification model).\n",
            "All the weights of TFRobertaModel were initialized from the model checkpoint at roberta-base.\n",
            "If your task is similar to the task the model of the ckeckpoint was trained on, you can already use TFRobertaModel for predictions without further training.\n"
          ],
          "name": "stderr"
        },
        {
          "output_type": "stream",
          "text": [
            "Model: \"model_6\"\n",
            "__________________________________________________________________________________________________\n",
            "Layer (type)                    Output Shape         Param #     Connected to                     \n",
            "==================================================================================================\n",
            "input_19 (InputLayer)           [(None, 128)]        0                                            \n",
            "__________________________________________________________________________________________________\n",
            "input_20 (InputLayer)           [(None, 128)]        0                                            \n",
            "__________________________________________________________________________________________________\n",
            "tf_roberta_model_6 (TFRobertaMo ((None, 128, 768), ( 124645632   input_19[0][0]                   \n",
            "                                                                 input_20[0][0]                   \n",
            "__________________________________________________________________________________________________\n",
            "dropout1 (Dropout)              (None, 128, 768)     0           tf_roberta_model_6[0][0]         \n",
            "__________________________________________________________________________________________________\n",
            "conv1d_6 (Conv1D)               (None, 43, 768)      4129536     dropout1[0][0]                   \n",
            "__________________________________________________________________________________________________\n",
            "input_21 (InputLayer)           [(None, 2)]          0                                            \n",
            "__________________________________________________________________________________________________\n",
            "global_max_pooling1d_6 (GlobalM (None, 768)          0           conv1d_6[0][0]                   \n",
            "__________________________________________________________________________________________________\n",
            "dense_18 (Dense)                (None, 64)           192         input_21[0][0]                   \n",
            "__________________________________________________________________________________________________\n",
            "concatenate_6 (Concatenate)     (None, 832)          0           global_max_pooling1d_6[0][0]     \n",
            "                                                                 dense_18[0][0]                   \n",
            "__________________________________________________________________________________________________\n",
            "dense_19 (Dense)                (None, 832)          693056      concatenate_6[0][0]              \n",
            "__________________________________________________________________________________________________\n",
            "add_12 (Add)                    (None, 832)          0           concatenate_6[0][0]              \n",
            "                                                                 dense_19[0][0]                   \n",
            "__________________________________________________________________________________________________\n",
            "dense_20 (Dense)                (None, 832)          693056      add_12[0][0]                     \n",
            "__________________________________________________________________________________________________\n",
            "add_13 (Add)                    (None, 832)          0           add_12[0][0]                     \n",
            "                                                                 dense_20[0][0]                   \n",
            "__________________________________________________________________________________________________\n",
            "dropout2 (Dropout)              (None, 832)          0           add_13[0][0]                     \n",
            "__________________________________________________________________________________________________\n",
            "flatten_6 (Flatten)             (None, 832)          0           dropout2[0][0]                   \n",
            "__________________________________________________________________________________________________\n",
            "classification (Dense)          (None, 4)            3332        flatten_6[0][0]                  \n",
            "==================================================================================================\n",
            "Total params: 130,164,804\n",
            "Trainable params: 130,164,804\n",
            "Non-trainable params: 0\n",
            "__________________________________________________________________________________________________\n",
            "Epoch 1/100\n",
            "WARNING:tensorflow:Gradients do not exist for variables ['tf_roberta_model_6/roberta/pooler/dense/kernel:0', 'tf_roberta_model_6/roberta/pooler/dense/bias:0'] when minimizing the loss.\n",
            "WARNING:tensorflow:Gradients do not exist for variables ['tf_roberta_model_6/roberta/pooler/dense/kernel:0', 'tf_roberta_model_6/roberta/pooler/dense/bias:0'] when minimizing the loss.\n",
            "WARNING:tensorflow:Gradients do not exist for variables ['tf_roberta_model_6/roberta/pooler/dense/kernel:0', 'tf_roberta_model_6/roberta/pooler/dense/bias:0'] when minimizing the loss.\n",
            "WARNING:tensorflow:Gradients do not exist for variables ['tf_roberta_model_6/roberta/pooler/dense/kernel:0', 'tf_roberta_model_6/roberta/pooler/dense/bias:0'] when minimizing the loss.\n",
            "23/23 [==============================] - 11s 491ms/step - loss: 1.5834 - accuracy: 0.4471 - recall_6: 0.3803 - precision_6: 0.4670 - val_loss: 0.9777 - val_accuracy: 0.5974 - val_recall_6: 0.5065 - val_precision_6: 0.6964 - lr: 1.0000e-05\n",
            "Epoch 2/100\n",
            "23/23 [==============================] - 9s 381ms/step - loss: 1.1510 - accuracy: 0.5362 - recall_6: 0.4750 - precision_6: 0.6009 - val_loss: 0.8864 - val_accuracy: 0.6883 - val_recall_6: 0.4545 - val_precision_6: 0.8537 - lr: 5.0000e-06\n",
            "Epoch 3/100\n",
            "23/23 [==============================] - 9s 381ms/step - loss: 0.9594 - accuracy: 0.6531 - recall_6: 0.5622 - precision_6: 0.7266 - val_loss: 0.7671 - val_accuracy: 0.7403 - val_recall_6: 0.5584 - val_precision_6: 0.8431 - lr: 3.3333e-06\n",
            "Epoch 4/100\n",
            "23/23 [==============================] - 9s 381ms/step - loss: 0.8512 - accuracy: 0.6994 - recall_6: 0.6345 - precision_6: 0.7550 - val_loss: 0.6680 - val_accuracy: 0.7532 - val_recall_6: 0.6883 - val_precision_6: 0.8689 - lr: 2.5000e-06\n",
            "Epoch 5/100\n",
            "23/23 [==============================] - 9s 382ms/step - loss: 0.6834 - accuracy: 0.7662 - recall_6: 0.7217 - precision_6: 0.8277 - val_loss: 0.5846 - val_accuracy: 0.7532 - val_recall_6: 0.7013 - val_precision_6: 0.8571 - lr: 2.0000e-06\n",
            "Epoch 6/100\n",
            "23/23 [==============================] - 9s 381ms/step - loss: 0.6237 - accuracy: 0.7718 - recall_6: 0.7310 - precision_6: 0.8140 - val_loss: 0.5259 - val_accuracy: 0.7922 - val_recall_6: 0.7273 - val_precision_6: 0.8615 - lr: 1.6667e-06\n",
            "Epoch 7/100\n",
            "23/23 [==============================] - 9s 382ms/step - loss: 0.5178 - accuracy: 0.7978 - recall_6: 0.7681 - precision_6: 0.8466 - val_loss: 0.4895 - val_accuracy: 0.8312 - val_recall_6: 0.7403 - val_precision_6: 0.8769 - lr: 1.4286e-06\n",
            "Epoch 8/100\n",
            "23/23 [==============================] - 9s 382ms/step - loss: 0.4772 - accuracy: 0.8163 - recall_6: 0.7774 - precision_6: 0.8534 - val_loss: 0.4655 - val_accuracy: 0.8571 - val_recall_6: 0.7922 - val_precision_6: 0.8841 - lr: 1.2500e-06\n",
            "Epoch 9/100\n",
            "23/23 [==============================] - 9s 381ms/step - loss: 0.4748 - accuracy: 0.8349 - recall_6: 0.8071 - precision_6: 0.8770 - val_loss: 0.4541 - val_accuracy: 0.8701 - val_recall_6: 0.7922 - val_precision_6: 0.8841 - lr: 1.1111e-06\n",
            "Epoch 10/100\n",
            "23/23 [==============================] - 9s 382ms/step - loss: 0.4247 - accuracy: 0.8442 - recall_6: 0.8163 - precision_6: 0.8713 - val_loss: 0.4446 - val_accuracy: 0.8701 - val_recall_6: 0.8182 - val_precision_6: 0.8873 - lr: 1.0000e-06\n",
            "Epoch 11/100\n",
            "23/23 [==============================] - 9s 382ms/step - loss: 0.3707 - accuracy: 0.8738 - recall_6: 0.8516 - precision_6: 0.9000 - val_loss: 0.4376 - val_accuracy: 0.8701 - val_recall_6: 0.8182 - val_precision_6: 0.8873 - lr: 9.0909e-07\n",
            "Epoch 12/100\n",
            "23/23 [==============================] - 9s 381ms/step - loss: 0.3444 - accuracy: 0.8738 - recall_6: 0.8516 - precision_6: 0.9071 - val_loss: 0.4337 - val_accuracy: 0.8701 - val_recall_6: 0.8182 - val_precision_6: 0.8873 - lr: 8.3333e-07\n",
            "Epoch 13/100\n",
            "23/23 [==============================] - 9s 382ms/step - loss: 0.3916 - accuracy: 0.8683 - recall_6: 0.8479 - precision_6: 0.8926 - val_loss: 0.4337 - val_accuracy: 0.8571 - val_recall_6: 0.8052 - val_precision_6: 0.8986 - lr: 7.6923e-07\n",
            "Epoch 14/100\n",
            "23/23 [==============================] - 9s 382ms/step - loss: 0.3649 - accuracy: 0.8664 - recall_6: 0.8479 - precision_6: 0.8926 - val_loss: 0.4322 - val_accuracy: 0.8571 - val_recall_6: 0.8182 - val_precision_6: 0.9000 - lr: 7.1429e-07\n",
            "Epoch 15/100\n",
            "23/23 [==============================] - 9s 384ms/step - loss: 0.3102 - accuracy: 0.8664 - recall_6: 0.8534 - precision_6: 0.8984 - val_loss: 0.4310 - val_accuracy: 0.8442 - val_recall_6: 0.8182 - val_precision_6: 0.9000 - lr: 6.6667e-07\n",
            "Epoch 16/100\n",
            "23/23 [==============================] - 9s 383ms/step - loss: 0.2821 - accuracy: 0.8942 - recall_6: 0.8738 - precision_6: 0.9128 - val_loss: 0.4290 - val_accuracy: 0.8442 - val_recall_6: 0.8182 - val_precision_6: 0.9000 - lr: 6.2500e-07\n",
            "Epoch 17/100\n",
            "23/23 [==============================] - 9s 382ms/step - loss: 0.2935 - accuracy: 0.8850 - recall_6: 0.8738 - precision_6: 0.9181 - val_loss: 0.4268 - val_accuracy: 0.8442 - val_recall_6: 0.8182 - val_precision_6: 0.9000 - lr: 5.8824e-07\n",
            "Epoch 18/100\n",
            "23/23 [==============================] - 9s 381ms/step - loss: 0.2814 - accuracy: 0.8998 - recall_6: 0.8905 - precision_6: 0.9266 - val_loss: 0.4257 - val_accuracy: 0.8571 - val_recall_6: 0.8182 - val_precision_6: 0.8873 - lr: 5.5556e-07\n",
            "Epoch 19/100\n",
            "23/23 [==============================] - 9s 381ms/step - loss: 0.2881 - accuracy: 0.8942 - recall_6: 0.8757 - precision_6: 0.9112 - val_loss: 0.4247 - val_accuracy: 0.8571 - val_recall_6: 0.8182 - val_precision_6: 0.8873 - lr: 5.2632e-07\n",
            "Epoch 20/100\n",
            "23/23 [==============================] - 9s 382ms/step - loss: 0.2711 - accuracy: 0.8961 - recall_6: 0.8776 - precision_6: 0.9149 - val_loss: 0.4263 - val_accuracy: 0.8442 - val_recall_6: 0.8182 - val_precision_6: 0.9000 - lr: 5.0000e-07\n",
            "Epoch 21/100\n",
            "23/23 [==============================] - 9s 382ms/step - loss: 0.2632 - accuracy: 0.9017 - recall_6: 0.8868 - precision_6: 0.9122 - val_loss: 0.4267 - val_accuracy: 0.8571 - val_recall_6: 0.8182 - val_precision_6: 0.9000 - lr: 4.7619e-07\n",
            "Epoch 22/100\n",
            "23/23 [==============================] - 9s 381ms/step - loss: 0.2777 - accuracy: 0.8961 - recall_6: 0.8813 - precision_6: 0.9135 - val_loss: 0.4283 - val_accuracy: 0.8571 - val_recall_6: 0.8182 - val_precision_6: 0.9000 - lr: 4.5455e-07\n",
            "Epoch 00022: early stopping\n"
          ],
          "name": "stdout"
        },
        {
          "output_type": "display_data",
          "data": {
            "image/png": "[encoded data removed]",
            "text/plain": [
              "<Figure size 432x288 with 1 Axes>"
            ]
          },
          "metadata": {
            "tags": [],
            "needs_background": "light"
          }
        },
        {
          "output_type": "stream",
          "text": [
            "13/13 [==============================] - 2s 127ms/step\n"
          ],
          "name": "stdout"
        },
        {
          "output_type": "stream",
          "text": [
            "Some weights of the model checkpoint at roberta-base were not used when initializing TFRobertaModel: ['lm_head']\n",
            "- This IS expected if you are initializing TFRobertaModel from the checkpoint of a model trained on another task or with another architecture (e.g. initializing a BertForSequenceClassification model from a BertForPretraining model).\n",
            "- This IS NOT expected if you are initializing TFRobertaModel from the checkpoint of a model that you expect to be exactly identical (initializing a BertForSequenceClassification model from a BertForSequenceClassification model).\n",
            "All the weights of TFRobertaModel were initialized from the model checkpoint at roberta-base.\n",
            "If your task is similar to the task the model of the ckeckpoint was trained on, you can already use TFRobertaModel for predictions without further training.\n"
          ],
          "name": "stderr"
        },
        {
          "output_type": "stream",
          "text": [
            "Model: \"model_7\"\n",
            "__________________________________________________________________________________________________\n",
            "Layer (type)                    Output Shape         Param #     Connected to                     \n",
            "==================================================================================================\n",
            "input_22 (InputLayer)           [(None, 128)]        0                                            \n",
            "__________________________________________________________________________________________________\n",
            "input_23 (InputLayer)           [(None, 128)]        0                                            \n",
            "__________________________________________________________________________________________________\n",
            "tf_roberta_model_7 (TFRobertaMo ((None, 128, 768), ( 124645632   input_22[0][0]                   \n",
            "                                                                 input_23[0][0]                   \n",
            "__________________________________________________________________________________________________\n",
            "dropout1 (Dropout)              (None, 128, 768)     0           tf_roberta_model_7[0][0]         \n",
            "__________________________________________________________________________________________________\n",
            "conv1d_7 (Conv1D)               (None, 43, 768)      4129536     dropout1[0][0]                   \n",
            "__________________________________________________________________________________________________\n",
            "input_24 (InputLayer)           [(None, 2)]          0                                            \n",
            "__________________________________________________________________________________________________\n",
            "global_max_pooling1d_7 (GlobalM (None, 768)          0           conv1d_7[0][0]                   \n",
            "__________________________________________________________________________________________________\n",
            "dense_21 (Dense)                (None, 64)           192         input_24[0][0]                   \n",
            "__________________________________________________________________________________________________\n",
            "concatenate_7 (Concatenate)     (None, 832)          0           global_max_pooling1d_7[0][0]     \n",
            "                                                                 dense_21[0][0]                   \n",
            "__________________________________________________________________________________________________\n",
            "dense_22 (Dense)                (None, 832)          693056      concatenate_7[0][0]              \n",
            "__________________________________________________________________________________________________\n",
            "add_14 (Add)                    (None, 832)          0           concatenate_7[0][0]              \n",
            "                                                                 dense_22[0][0]                   \n",
            "__________________________________________________________________________________________________\n",
            "dense_23 (Dense)                (None, 832)          693056      add_14[0][0]                     \n",
            "__________________________________________________________________________________________________\n",
            "add_15 (Add)                    (None, 832)          0           add_14[0][0]                     \n",
            "                                                                 dense_23[0][0]                   \n",
            "__________________________________________________________________________________________________\n",
            "dropout2 (Dropout)              (None, 832)          0           add_15[0][0]                     \n",
            "__________________________________________________________________________________________________\n",
            "flatten_7 (Flatten)             (None, 832)          0           dropout2[0][0]                   \n",
            "__________________________________________________________________________________________________\n",
            "classification (Dense)          (None, 4)            3332        flatten_7[0][0]                  \n",
            "==================================================================================================\n",
            "Total params: 130,164,804\n",
            "Trainable params: 130,164,804\n",
            "Non-trainable params: 0\n",
            "__________________________________________________________________________________________________\n",
            "Epoch 1/100\n",
            "WARNING:tensorflow:Gradients do not exist for variables ['tf_roberta_model_7/roberta/pooler/dense/kernel:0', 'tf_roberta_model_7/roberta/pooler/dense/bias:0'] when minimizing the loss.\n",
            "WARNING:tensorflow:Gradients do not exist for variables ['tf_roberta_model_7/roberta/pooler/dense/kernel:0', 'tf_roberta_model_7/roberta/pooler/dense/bias:0'] when minimizing the loss.\n",
            "WARNING:tensorflow:Gradients do not exist for variables ['tf_roberta_model_7/roberta/pooler/dense/kernel:0', 'tf_roberta_model_7/roberta/pooler/dense/bias:0'] when minimizing the loss.\n",
            "WARNING:tensorflow:Gradients do not exist for variables ['tf_roberta_model_7/roberta/pooler/dense/kernel:0', 'tf_roberta_model_7/roberta/pooler/dense/bias:0'] when minimizing the loss.\n",
            "23/23 [==============================] - 11s 490ms/step - loss: 1.3717 - accuracy: 0.4954 - recall_7: 0.4360 - precision_7: 0.5465 - val_loss: 1.0227 - val_accuracy: 0.5974 - val_recall_7: 0.3247 - val_precision_7: 0.9259 - lr: 1.0000e-05\n",
            "Epoch 2/100\n",
            "23/23 [==============================] - 9s 381ms/step - loss: 1.0360 - accuracy: 0.6141 - recall_7: 0.5232 - precision_7: 0.6730 - val_loss: 0.7817 - val_accuracy: 0.7143 - val_recall_7: 0.5065 - val_precision_7: 0.9286 - lr: 5.0000e-06\n",
            "Epoch 3/100\n",
            "23/23 [==============================] - 9s 381ms/step - loss: 0.7242 - accuracy: 0.7291 - recall_7: 0.6642 - precision_7: 0.7800 - val_loss: 0.6525 - val_accuracy: 0.7662 - val_recall_7: 0.6494 - val_precision_7: 0.9259 - lr: 3.3333e-06\n",
            "Epoch 4/100\n",
            "23/23 [==============================] - 9s 380ms/step - loss: 0.6511 - accuracy: 0.7458 - recall_7: 0.7087 - precision_7: 0.7992 - val_loss: 0.5208 - val_accuracy: 0.7922 - val_recall_7: 0.7273 - val_precision_7: 0.8889 - lr: 2.5000e-06\n",
            "Epoch 5/100\n",
            "23/23 [==============================] - 9s 382ms/step - loss: 0.5128 - accuracy: 0.8015 - recall_7: 0.7718 - precision_7: 0.8507 - val_loss: 0.4773 - val_accuracy: 0.8182 - val_recall_7: 0.7662 - val_precision_7: 0.8939 - lr: 2.0000e-06\n",
            "Epoch 6/100\n",
            "23/23 [==============================] - 9s 382ms/step - loss: 0.4773 - accuracy: 0.8256 - recall_7: 0.7941 - precision_7: 0.8560 - val_loss: 0.4503 - val_accuracy: 0.8182 - val_recall_7: 0.7792 - val_precision_7: 0.8955 - lr: 1.6667e-06\n",
            "Epoch 7/100\n",
            "23/23 [==============================] - 9s 382ms/step - loss: 0.4334 - accuracy: 0.8571 - recall_7: 0.8386 - precision_7: 0.8726 - val_loss: 0.4282 - val_accuracy: 0.8312 - val_recall_7: 0.7792 - val_precision_7: 0.9091 - lr: 1.4286e-06\n",
            "Epoch 8/100\n",
            "23/23 [==============================] - 9s 381ms/step - loss: 0.3775 - accuracy: 0.8609 - recall_7: 0.8349 - precision_7: 0.8772 - val_loss: 0.4161 - val_accuracy: 0.8312 - val_recall_7: 0.7792 - val_precision_7: 0.8955 - lr: 1.2500e-06\n",
            "Epoch 9/100\n",
            "23/23 [==============================] - 9s 382ms/step - loss: 0.3076 - accuracy: 0.8738 - recall_7: 0.8553 - precision_7: 0.9093 - val_loss: 0.4133 - val_accuracy: 0.8312 - val_recall_7: 0.7792 - val_precision_7: 0.8824 - lr: 1.1111e-06\n",
            "Epoch 10/100\n",
            "23/23 [==============================] - 9s 381ms/step - loss: 0.3263 - accuracy: 0.8701 - recall_7: 0.8534 - precision_7: 0.9055 - val_loss: 0.4107 - val_accuracy: 0.8442 - val_recall_7: 0.7922 - val_precision_7: 0.8971 - lr: 1.0000e-06\n",
            "Epoch 11/100\n",
            "23/23 [==============================] - 9s 381ms/step - loss: 0.2944 - accuracy: 0.8794 - recall_7: 0.8609 - precision_7: 0.9170 - val_loss: 0.4146 - val_accuracy: 0.8312 - val_recall_7: 0.7922 - val_precision_7: 0.8971 - lr: 9.0909e-07\n",
            "Epoch 12/100\n",
            "23/23 [==============================] - 9s 381ms/step - loss: 0.2698 - accuracy: 0.8998 - recall_7: 0.8905 - precision_7: 0.9195 - val_loss: 0.4131 - val_accuracy: 0.8182 - val_recall_7: 0.7792 - val_precision_7: 0.8955 - lr: 8.3333e-07\n",
            "Epoch 13/100\n",
            "23/23 [==============================] - 9s 381ms/step - loss: 0.3192 - accuracy: 0.8701 - recall_7: 0.8497 - precision_7: 0.8963 - val_loss: 0.4058 - val_accuracy: 0.8182 - val_recall_7: 0.8052 - val_precision_7: 0.8857 - lr: 7.6923e-07\n",
            "Epoch 14/100\n",
            "23/23 [==============================] - 9s 382ms/step - loss: 0.2814 - accuracy: 0.8850 - recall_7: 0.8738 - precision_7: 0.9181 - val_loss: 0.4029 - val_accuracy: 0.8312 - val_recall_7: 0.8052 - val_precision_7: 0.9118 - lr: 7.1429e-07\n",
            "Epoch 15/100\n",
            "23/23 [==============================] - 9s 380ms/step - loss: 0.2920 - accuracy: 0.9035 - recall_7: 0.8776 - precision_7: 0.9275 - val_loss: 0.4064 - val_accuracy: 0.8052 - val_recall_7: 0.7922 - val_precision_7: 0.9104 - lr: 6.6667e-07\n",
            "Epoch 16/100\n",
            "23/23 [==============================] - 9s 381ms/step - loss: 0.2454 - accuracy: 0.8998 - recall_7: 0.8831 - precision_7: 0.9189 - val_loss: 0.4073 - val_accuracy: 0.8312 - val_recall_7: 0.7922 - val_precision_7: 0.8971 - lr: 6.2500e-07\n",
            "Epoch 17/100\n",
            "23/23 [==============================] - 9s 380ms/step - loss: 0.2722 - accuracy: 0.8980 - recall_7: 0.8831 - precision_7: 0.9207 - val_loss: 0.3960 - val_accuracy: 0.8571 - val_recall_7: 0.8052 - val_precision_7: 0.8986 - lr: 5.8824e-07\n",
            "Epoch 18/100\n",
            "23/23 [==============================] - 9s 381ms/step - loss: 0.2648 - accuracy: 0.9035 - recall_7: 0.8942 - precision_7: 0.9198 - val_loss: 0.3949 - val_accuracy: 0.8442 - val_recall_7: 0.8052 - val_precision_7: 0.8986 - lr: 5.5556e-07\n",
            "Epoch 19/100\n",
            "23/23 [==============================] - 9s 380ms/step - loss: 0.2415 - accuracy: 0.9017 - recall_7: 0.8813 - precision_7: 0.9223 - val_loss: 0.3910 - val_accuracy: 0.8442 - val_recall_7: 0.8052 - val_precision_7: 0.8986 - lr: 5.2632e-07\n",
            "Epoch 20/100\n",
            "23/23 [==============================] - 9s 380ms/step - loss: 0.2334 - accuracy: 0.9128 - recall_7: 0.8961 - precision_7: 0.9288 - val_loss: 0.3901 - val_accuracy: 0.8442 - val_recall_7: 0.8052 - val_precision_7: 0.9118 - lr: 5.0000e-07\n",
            "Epoch 21/100\n",
            "23/23 [==============================] - 9s 380ms/step - loss: 0.2297 - accuracy: 0.9128 - recall_7: 0.8942 - precision_7: 0.9305 - val_loss: 0.3925 - val_accuracy: 0.8571 - val_recall_7: 0.8052 - val_precision_7: 0.9118 - lr: 4.7619e-07\n",
            "Epoch 22/100\n",
            "23/23 [==============================] - 9s 381ms/step - loss: 0.2393 - accuracy: 0.9072 - recall_7: 0.8924 - precision_7: 0.9268 - val_loss: 0.3908 - val_accuracy: 0.8571 - val_recall_7: 0.8052 - val_precision_7: 0.8986 - lr: 4.5455e-07\n",
            "Epoch 23/100\n",
            "23/23 [==============================] - 9s 380ms/step - loss: 0.2007 - accuracy: 0.9221 - recall_7: 0.9072 - precision_7: 0.9422 - val_loss: 0.3968 - val_accuracy: 0.8701 - val_recall_7: 0.7922 - val_precision_7: 0.9104 - lr: 4.3478e-07\n",
            "Epoch 00023: early stopping\n"
          ],
          "name": "stdout"
        },
        {
          "output_type": "display_data",
          "data": {
            "image/png": "[encoded data removed]",
            "text/plain": [
              "<Figure size 432x288 with 1 Axes>"
            ]
          },
          "metadata": {
            "tags": [],
            "needs_background": "light"
          }
        },
        {
          "output_type": "stream",
          "text": [
            "13/13 [==============================] - 2s 130ms/step\n"
          ],
          "name": "stdout"
        }
      ]
    },
    {
      "cell_type": "code",
      "metadata": {
        "id": "Vud5saA7RFap",
        "colab_type": "code",
        "colab": {}
      },
      "source": [
        "test_preds = np.average(predictions, axis = 0) # Average all the predictions made per fold"
      ],
      "execution_count": null,
      "outputs": []
    },
    {
      "cell_type": "code",
      "metadata": {
        "id": "BbC_xLbovU7c",
        "colab_type": "code",
        "colab": {}
      },
      "source": [
        "ss = pd.read_csv(\"./SampleSubmission.csv\")\n",
        " \n",
        "ss['Depression'] = test_preds[:,0]\n",
        "ss['Alcohol'] = test_preds[:,1]\n",
        "ss['Suicide'] = test_preds[:,2]\n",
        "ss['Drugs']  = test_preds[:,3]\n",
        " \n",
        "ss.to_csv(\"./submission.csv\", index = False)"
      ],
      "execution_count": null,
      "outputs": []
    },
    {
      "cell_type": "code",
      "metadata": {
        "id": "rXqfVnRIvmnV",
        "colab_type": "code",
        "colab": {
          "base_uri": "https://localhost:8080/",
          "height": 204
        },
        "outputId": "bcbfb135-af38-472c-95d4-4ebd35fdae7c"
      },
      "source": [
        "ss.sample(5)"
      ],
      "execution_count": null,
      "outputs": [
        {
          "output_type": "execute_result",
          "data": {
            "text/html": [
              "<div>\n",
              "<style scoped>\n",
              "    .dataframe tbody tr th:only-of-type {\n",
              "        vertical-align: middle;\n",
              "    }\n",
              "\n",
              "    .dataframe tbody tr th {\n",
              "        vertical-align: top;\n",
              "    }\n",
              "\n",
              "    .dataframe thead th {\n",
              "        text-align: right;\n",
              "    }\n",
              "</style>\n",
              "<table border=\"1\" class=\"dataframe\">\n",
              "  <thead>\n",
              "    <tr style=\"text-align: right;\">\n",
              "      <th></th>\n",
              "      <th>ID</th>\n",
              "      <th>Depression</th>\n",
              "      <th>Alcohol</th>\n",
              "      <th>Suicide</th>\n",
              "      <th>Drugs</th>\n",
              "    </tr>\n",
              "  </thead>\n",
              "  <tbody>\n",
              "    <tr>\n",
              "      <th>154</th>\n",
              "      <td>H4L5M9EC</td>\n",
              "      <td>0.020668</td>\n",
              "      <td>0.389330</td>\n",
              "      <td>0.039570</td>\n",
              "      <td>0.550432</td>\n",
              "    </tr>\n",
              "    <tr>\n",
              "      <th>242</th>\n",
              "      <td>QTD01ME7</td>\n",
              "      <td>0.349717</td>\n",
              "      <td>0.075337</td>\n",
              "      <td>0.501000</td>\n",
              "      <td>0.073947</td>\n",
              "    </tr>\n",
              "    <tr>\n",
              "      <th>146</th>\n",
              "      <td>GHKPUMG2</td>\n",
              "      <td>0.501964</td>\n",
              "      <td>0.265414</td>\n",
              "      <td>0.180174</td>\n",
              "      <td>0.052448</td>\n",
              "    </tr>\n",
              "    <tr>\n",
              "      <th>100</th>\n",
              "      <td>BUUPSFJ1</td>\n",
              "      <td>0.990493</td>\n",
              "      <td>0.001525</td>\n",
              "      <td>0.005716</td>\n",
              "      <td>0.002267</td>\n",
              "    </tr>\n",
              "    <tr>\n",
              "      <th>159</th>\n",
              "      <td>HT3X6CBT</td>\n",
              "      <td>0.985912</td>\n",
              "      <td>0.000441</td>\n",
              "      <td>0.013059</td>\n",
              "      <td>0.000588</td>\n",
              "    </tr>\n",
              "  </tbody>\n",
              "</table>\n",
              "</div>"
            ],
            "text/plain": [
              "           ID  Depression   Alcohol   Suicide     Drugs\n",
              "154  H4L5M9EC    0.020668  0.389330  0.039570  0.550432\n",
              "242  QTD01ME7    0.349717  0.075337  0.501000  0.073947\n",
              "146  GHKPUMG2    0.501964  0.265414  0.180174  0.052448\n",
              "100  BUUPSFJ1    0.990493  0.001525  0.005716  0.002267\n",
              "159  HT3X6CBT    0.985912  0.000441  0.013059  0.000588"
            ]
          },
          "metadata": {
            "tags": []
          },
          "execution_count": 24
        }
      ]
    }
  ]
}